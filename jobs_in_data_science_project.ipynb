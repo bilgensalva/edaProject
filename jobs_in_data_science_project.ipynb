{
 "cells": [
  {
   "cell_type": "markdown",
   "id": "f2054ad5-e7b8-42f6-94eb-7d9136d4a5a5",
   "metadata": {},
   "source": [
    "# <p style=\"background-color:green;font-family:newtimeroman;font-size:200%;color:white;text-align:center;border-radius:20px 20px;\"><b>Jobs in Data Science Project</b></p>\n",
    "![](https://www.techproeducation.com/logo/headerlogo.svg)\n",
    "\n",
    "<b>Yeniliklerden ilk siz haberdar olmak istiyorsanız lütfen bizi takip etmeyi unutmayın </b>[YouTube](https://www.youtube.com/c/techproeducation) | [Instagram](https://www.instagram.com/techproeducation) | [Facebook](https://www.facebook.com/techproeducation) | [Telegram](https://t.me/joinchat/HH2qRvA-ulh4OWbb) | [Whatsapp](https://api.whatsapp.com/send/?phone=%2B15853042959&text&type=phone_number&app_absent=0) | [LinkedIn](https://www.linkedin.com/company/techproeducation/mycompany/) |"
   ]
  },
  {
   "cell_type": "markdown",
   "id": "995c6b6f",
   "metadata": {},
   "source": [
    "# Jobs in Data Science Project\n",
    "\n",
    "This notebook provides a structured approach to handling data cleaning, exploratory data analysis (EDA), and data visualization tasks using the provided dataset.\n",
    "\n",
    "Each step will cover various aspects of cleaning, analyzing, and visualizing the dataset.\n"
   ]
  },
  {
   "cell_type": "markdown",
   "id": "45dd40f8",
   "metadata": {},
   "source": [
    "## Step 1: Import Libraries, Loading the Dataset and Initial Exploration"
   ]
  },
  {
   "cell_type": "code",
   "execution_count": 4,
   "id": "c3483546",
   "metadata": {},
   "outputs": [
    {
     "name": "stdout",
     "output_type": "stream",
     "text": [
      "Requirement already satisfied: dtale in c:\\users\\asus\\appdata\\local\\programs\\python\\python312\\lib\\site-packages (3.14.1)\n",
      "Requirement already satisfied: dash-colorscales in c:\\users\\asus\\appdata\\local\\programs\\python\\python312\\lib\\site-packages (from dtale) (0.0.4)\n",
      "Requirement already satisfied: dash-daq in c:\\users\\asus\\appdata\\local\\programs\\python\\python312\\lib\\site-packages (from dtale) (0.5.0)\n",
      "Requirement already satisfied: Flask-Compress in c:\\users\\asus\\appdata\\local\\programs\\python\\python312\\lib\\site-packages (from dtale) (1.17)\n",
      "Requirement already satisfied: future>=0.14.0 in c:\\users\\asus\\appdata\\local\\programs\\python\\python312\\lib\\site-packages (from dtale) (1.0.0)\n",
      "Requirement already satisfied: kaleido in c:\\users\\asus\\appdata\\local\\programs\\python\\python312\\lib\\site-packages (from dtale) (0.2.1)\n",
      "Requirement already satisfied: missingno in c:\\users\\asus\\appdata\\local\\programs\\python\\python312\\lib\\site-packages (from dtale) (0.5.2)\n",
      "Requirement already satisfied: pandas in c:\\users\\asus\\appdata\\local\\programs\\python\\python312\\lib\\site-packages (from dtale) (2.2.2)\n",
      "Requirement already satisfied: squarify in c:\\users\\asus\\appdata\\local\\programs\\python\\python312\\lib\\site-packages (from dtale) (0.4.4)\n",
      "Requirement already satisfied: strsimpy in c:\\users\\asus\\appdata\\local\\programs\\python\\python312\\lib\\site-packages (from dtale) (0.2.1)\n",
      "Requirement already satisfied: six in c:\\users\\asus\\appdata\\roaming\\python\\python312\\site-packages (from dtale) (1.16.0)\n",
      "Requirement already satisfied: xlrd in c:\\users\\asus\\appdata\\local\\programs\\python\\python312\\lib\\site-packages (from dtale) (2.0.1)\n",
      "Requirement already satisfied: beautifulsoup4!=4.13.0b2 in c:\\users\\asus\\appdata\\local\\programs\\python\\python312\\lib\\site-packages (from dtale) (4.12.3)\n",
      "Requirement already satisfied: certifi in c:\\users\\asus\\appdata\\local\\programs\\python\\python312\\lib\\site-packages (from dtale) (2024.7.4)\n",
      "Requirement already satisfied: flask-ngrok in c:\\users\\asus\\appdata\\local\\programs\\python\\python312\\lib\\site-packages (from dtale) (0.0.25)\n",
      "Requirement already satisfied: lz4 in c:\\users\\asus\\appdata\\local\\programs\\python\\python312\\lib\\site-packages (from dtale) (4.3.3)\n",
      "Requirement already satisfied: cycler in c:\\users\\asus\\appdata\\local\\programs\\python\\python312\\lib\\site-packages (from dtale) (0.12.1)\n",
      "Requirement already satisfied: dash-bootstrap-components<=1.3.1 in c:\\users\\asus\\appdata\\local\\programs\\python\\python312\\lib\\site-packages (from dtale) (1.3.1)\n",
      "Requirement already satisfied: dash in c:\\users\\asus\\appdata\\local\\programs\\python\\python312\\lib\\site-packages (from dtale) (2.18.1)\n",
      "Requirement already satisfied: seaborn in c:\\users\\asus\\appdata\\local\\programs\\python\\python312\\lib\\site-packages (from dtale) (0.13.2)\n",
      "Requirement already satisfied: werkzeug in c:\\users\\asus\\appdata\\local\\programs\\python\\python312\\lib\\site-packages (from dtale) (3.0.4)\n",
      "Requirement already satisfied: scikit-learn in c:\\users\\asus\\appdata\\local\\programs\\python\\python312\\lib\\site-packages (from dtale) (1.5.2)\n",
      "Requirement already satisfied: statsmodels in c:\\users\\asus\\appdata\\local\\programs\\python\\python312\\lib\\site-packages (from dtale) (0.14.4)\n",
      "Requirement already satisfied: networkx in c:\\users\\asus\\appdata\\local\\programs\\python\\python312\\lib\\site-packages (from dtale) (3.4.1)\n",
      "Requirement already satisfied: numpy in c:\\users\\asus\\appdata\\local\\programs\\python\\python312\\lib\\site-packages (from dtale) (1.26.4)\n",
      "Requirement already satisfied: openpyxl!=3.2.0b1 in c:\\users\\asus\\appdata\\local\\programs\\python\\python312\\lib\\site-packages (from dtale) (3.1.5)\n",
      "Requirement already satisfied: xarray in c:\\users\\asus\\appdata\\local\\programs\\python\\python312\\lib\\site-packages (from dtale) (2024.9.0)\n",
      "Requirement already satisfied: scipy!=1.12.0rc1,!=1.14.0,!=1.14.0rc1,!=1.14.0rc2 in c:\\users\\asus\\appdata\\local\\programs\\python\\python312\\lib\\site-packages (from dtale) (1.14.1)\n",
      "Requirement already satisfied: et-xmlfile in c:\\users\\asus\\appdata\\local\\programs\\python\\python312\\lib\\site-packages (from dtale) (1.1.0)\n",
      "Requirement already satisfied: plotly in c:\\users\\asus\\appdata\\local\\programs\\python\\python312\\lib\\site-packages (from dtale) (5.24.1)\n",
      "Requirement already satisfied: Flask<2.3 in c:\\users\\asus\\appdata\\local\\programs\\python\\python312\\lib\\site-packages (from dtale) (2.2.5)\n",
      "Requirement already satisfied: requests in c:\\users\\asus\\appdata\\local\\programs\\python\\python312\\lib\\site-packages (from dtale) (2.32.3)\n",
      "Requirement already satisfied: itsdangerous in c:\\users\\asus\\appdata\\local\\programs\\python\\python312\\lib\\site-packages (from dtale) (2.2.0)\n",
      "Requirement already satisfied: contourpy in c:\\users\\asus\\appdata\\local\\programs\\python\\python312\\lib\\site-packages (from dtale) (1.2.1)\n",
      "Requirement already satisfied: matplotlib in c:\\users\\asus\\appdata\\local\\programs\\python\\python312\\lib\\site-packages (from dtale) (3.8.4)\n",
      "Requirement already satisfied: soupsieve>1.2 in c:\\users\\asus\\appdata\\local\\programs\\python\\python312\\lib\\site-packages (from beautifulsoup4!=4.13.0b2->dtale) (2.5)\n",
      "Requirement already satisfied: dash-html-components==2.0.0 in c:\\users\\asus\\appdata\\local\\programs\\python\\python312\\lib\\site-packages (from dash->dtale) (2.0.0)\n",
      "Requirement already satisfied: dash-core-components==2.0.0 in c:\\users\\asus\\appdata\\local\\programs\\python\\python312\\lib\\site-packages (from dash->dtale) (2.0.0)\n",
      "Requirement already satisfied: dash-table==5.0.0 in c:\\users\\asus\\appdata\\local\\programs\\python\\python312\\lib\\site-packages (from dash->dtale) (5.0.0)\n",
      "Requirement already satisfied: importlib-metadata in c:\\users\\asus\\appdata\\local\\programs\\python\\python312\\lib\\site-packages (from dash->dtale) (8.5.0)\n",
      "Requirement already satisfied: typing-extensions>=4.1.1 in c:\\users\\asus\\appdata\\local\\programs\\python\\python312\\lib\\site-packages (from dash->dtale) (4.12.2)\n",
      "Requirement already satisfied: retrying in c:\\users\\asus\\appdata\\local\\programs\\python\\python312\\lib\\site-packages (from dash->dtale) (1.3.4)\n",
      "Requirement already satisfied: nest-asyncio in c:\\users\\asus\\appdata\\roaming\\python\\python312\\site-packages (from dash->dtale) (1.6.0)\n",
      "Requirement already satisfied: setuptools in c:\\users\\asus\\appdata\\local\\programs\\python\\python312\\lib\\site-packages (from dash->dtale) (72.1.0)\n",
      "Requirement already satisfied: Jinja2>=3.0 in c:\\users\\asus\\appdata\\local\\programs\\python\\python312\\lib\\site-packages (from Flask<2.3->dtale) (3.1.4)\n",
      "Requirement already satisfied: click>=8.0 in c:\\users\\asus\\appdata\\local\\programs\\python\\python312\\lib\\site-packages (from Flask<2.3->dtale) (8.1.7)\n",
      "Requirement already satisfied: tenacity>=6.2.0 in c:\\users\\asus\\appdata\\local\\programs\\python\\python312\\lib\\site-packages (from plotly->dtale) (9.0.0)\n",
      "Requirement already satisfied: packaging in c:\\users\\asus\\appdata\\roaming\\python\\python312\\site-packages (from plotly->dtale) (24.0)\n",
      "Requirement already satisfied: MarkupSafe>=2.1.1 in c:\\users\\asus\\appdata\\local\\programs\\python\\python312\\lib\\site-packages (from werkzeug->dtale) (2.1.5)\n",
      "Requirement already satisfied: brotli in c:\\users\\asus\\appdata\\local\\programs\\python\\python312\\lib\\site-packages (from Flask-Compress->dtale) (1.1.0)\n",
      "Requirement already satisfied: zstandard in c:\\users\\asus\\appdata\\local\\programs\\python\\python312\\lib\\site-packages (from Flask-Compress->dtale) (0.23.0)\n",
      "Requirement already satisfied: fonttools>=4.22.0 in c:\\users\\asus\\appdata\\local\\programs\\python\\python312\\lib\\site-packages (from matplotlib->dtale) (4.53.1)\n",
      "Requirement already satisfied: kiwisolver>=1.3.1 in c:\\users\\asus\\appdata\\local\\programs\\python\\python312\\lib\\site-packages (from matplotlib->dtale) (1.4.5)\n",
      "Requirement already satisfied: pillow>=8 in c:\\users\\asus\\appdata\\local\\programs\\python\\python312\\lib\\site-packages (from matplotlib->dtale) (10.4.0)\n",
      "Requirement already satisfied: pyparsing>=2.3.1 in c:\\users\\asus\\appdata\\local\\programs\\python\\python312\\lib\\site-packages (from matplotlib->dtale) (3.1.2)\n",
      "Requirement already satisfied: python-dateutil>=2.7 in c:\\users\\asus\\appdata\\roaming\\python\\python312\\site-packages (from matplotlib->dtale) (2.9.0.post0)\n",
      "Requirement already satisfied: pytz>=2020.1 in c:\\users\\asus\\appdata\\local\\programs\\python\\python312\\lib\\site-packages (from pandas->dtale) (2024.1)\n",
      "Requirement already satisfied: tzdata>=2022.7 in c:\\users\\asus\\appdata\\local\\programs\\python\\python312\\lib\\site-packages (from pandas->dtale) (2024.1)\n",
      "Requirement already satisfied: charset-normalizer<4,>=2 in c:\\users\\asus\\appdata\\local\\programs\\python\\python312\\lib\\site-packages (from requests->dtale) (3.3.2)\n",
      "Requirement already satisfied: idna<4,>=2.5 in c:\\users\\asus\\appdata\\local\\programs\\python\\python312\\lib\\site-packages (from requests->dtale) (3.7)\n",
      "Requirement already satisfied: urllib3<3,>=1.21.1 in c:\\users\\asus\\appdata\\local\\programs\\python\\python312\\lib\\site-packages (from requests->dtale) (2.2.2)\n",
      "Requirement already satisfied: joblib>=1.2.0 in c:\\users\\asus\\appdata\\local\\programs\\python\\python312\\lib\\site-packages (from scikit-learn->dtale) (1.4.2)\n",
      "Requirement already satisfied: threadpoolctl>=3.1.0 in c:\\users\\asus\\appdata\\local\\programs\\python\\python312\\lib\\site-packages (from scikit-learn->dtale) (3.5.0)\n",
      "Requirement already satisfied: patsy>=0.5.6 in c:\\users\\asus\\appdata\\local\\programs\\python\\python312\\lib\\site-packages (from statsmodels->dtale) (0.5.6)\n",
      "Requirement already satisfied: colorama in c:\\users\\asus\\appdata\\roaming\\python\\python312\\site-packages (from click>=8.0->Flask<2.3->dtale) (0.4.6)\n",
      "Requirement already satisfied: zipp>=3.20 in c:\\users\\asus\\appdata\\local\\programs\\python\\python312\\lib\\site-packages (from importlib-metadata->dash->dtale) (3.20.2)\n"
     ]
    },
    {
     "name": "stderr",
     "output_type": "stream",
     "text": [
      "WARNING: Ignoring invalid distribution ~atplotlib (C:\\Users\\Asus\\AppData\\Local\\Programs\\Python\\Python312\\Lib\\site-packages)\n",
      "WARNING: Ignoring invalid distribution ~cipy (C:\\Users\\Asus\\AppData\\Local\\Programs\\Python\\Python312\\Lib\\site-packages)\n",
      "WARNING: Ignoring invalid distribution ~atplotlib (C:\\Users\\Asus\\AppData\\Local\\Programs\\Python\\Python312\\Lib\\site-packages)\n",
      "WARNING: Ignoring invalid distribution ~cipy (C:\\Users\\Asus\\AppData\\Local\\Programs\\Python\\Python312\\Lib\\site-packages)\n",
      "WARNING: Ignoring invalid distribution ~atplotlib (C:\\Users\\Asus\\AppData\\Local\\Programs\\Python\\Python312\\Lib\\site-packages)\n",
      "WARNING: Ignoring invalid distribution ~cipy (C:\\Users\\Asus\\AppData\\Local\\Programs\\Python\\Python312\\Lib\\site-packages)\n"
     ]
    },
    {
     "name": "stdout",
     "output_type": "stream",
     "text": [
      "Requirement already satisfied: skimpy in c:\\users\\asus\\appdata\\local\\programs\\python\\python312\\lib\\site-packages (0.0.15)\n",
      "Requirement already satisfied: Pygments<3.0.0,>=2.10.0 in c:\\users\\asus\\appdata\\roaming\\python\\python312\\site-packages (from skimpy) (2.18.0)\n",
      "Requirement already satisfied: click<9.0.0,>=8.1.6 in c:\\users\\asus\\appdata\\local\\programs\\python\\python312\\lib\\site-packages (from skimpy) (8.1.7)\n",
      "Requirement already satisfied: ipykernel<7.0.0,>=6.7.0 in c:\\users\\asus\\appdata\\roaming\\python\\python312\\site-packages (from skimpy) (6.29.4)\n",
      "Requirement already satisfied: numpy<2.0.0,>=1.22.2 in c:\\users\\asus\\appdata\\local\\programs\\python\\python312\\lib\\site-packages (from skimpy) (1.26.4)\n",
      "Requirement already satisfied: pandas<3.0.0,>=2.0.3 in c:\\users\\asus\\appdata\\local\\programs\\python\\python312\\lib\\site-packages (from skimpy) (2.2.2)\n",
      "Requirement already satisfied: polars<0.21,>=0.19 in c:\\users\\asus\\appdata\\local\\programs\\python\\python312\\lib\\site-packages (from skimpy) (0.20.31)\n",
      "Requirement already satisfied: pyarrow<17,>=13 in c:\\users\\asus\\appdata\\local\\programs\\python\\python312\\lib\\site-packages (from skimpy) (16.1.0)\n",
      "Requirement already satisfied: rich<14.0,>=10.9 in c:\\users\\asus\\appdata\\local\\programs\\python\\python312\\lib\\site-packages (from skimpy) (13.7.1)\n",
      "Requirement already satisfied: typeguard==4.2.1 in c:\\users\\asus\\appdata\\local\\programs\\python\\python312\\lib\\site-packages (from skimpy) (4.2.1)\n",
      "Requirement already satisfied: typing-extensions>=4.10.0 in c:\\users\\asus\\appdata\\local\\programs\\python\\python312\\lib\\site-packages (from typeguard==4.2.1->skimpy) (4.12.2)\n",
      "Requirement already satisfied: colorama in c:\\users\\asus\\appdata\\roaming\\python\\python312\\site-packages (from click<9.0.0,>=8.1.6->skimpy) (0.4.6)\n",
      "Requirement already satisfied: comm>=0.1.1 in c:\\users\\asus\\appdata\\roaming\\python\\python312\\site-packages (from ipykernel<7.0.0,>=6.7.0->skimpy) (0.2.2)\n",
      "Requirement already satisfied: debugpy>=1.6.5 in c:\\users\\asus\\appdata\\roaming\\python\\python312\\site-packages (from ipykernel<7.0.0,>=6.7.0->skimpy) (1.8.1)\n",
      "Requirement already satisfied: ipython>=7.23.1 in c:\\users\\asus\\appdata\\roaming\\python\\python312\\site-packages (from ipykernel<7.0.0,>=6.7.0->skimpy) (8.25.0)\n",
      "Requirement already satisfied: jupyter-client>=6.1.12 in c:\\users\\asus\\appdata\\roaming\\python\\python312\\site-packages (from ipykernel<7.0.0,>=6.7.0->skimpy) (8.6.2)\n",
      "Requirement already satisfied: jupyter-core!=5.0.*,>=4.12 in c:\\users\\asus\\appdata\\roaming\\python\\python312\\site-packages (from ipykernel<7.0.0,>=6.7.0->skimpy) (5.7.2)\n",
      "Requirement already satisfied: matplotlib-inline>=0.1 in c:\\users\\asus\\appdata\\roaming\\python\\python312\\site-packages (from ipykernel<7.0.0,>=6.7.0->skimpy) (0.1.7)\n",
      "Requirement already satisfied: nest-asyncio in c:\\users\\asus\\appdata\\roaming\\python\\python312\\site-packages (from ipykernel<7.0.0,>=6.7.0->skimpy) (1.6.0)\n",
      "Requirement already satisfied: packaging in c:\\users\\asus\\appdata\\roaming\\python\\python312\\site-packages (from ipykernel<7.0.0,>=6.7.0->skimpy) (24.0)\n",
      "Requirement already satisfied: psutil in c:\\users\\asus\\appdata\\roaming\\python\\python312\\site-packages (from ipykernel<7.0.0,>=6.7.0->skimpy) (5.9.8)\n",
      "Requirement already satisfied: pyzmq>=24 in c:\\users\\asus\\appdata\\roaming\\python\\python312\\site-packages (from ipykernel<7.0.0,>=6.7.0->skimpy) (26.0.3)\n",
      "Requirement already satisfied: tornado>=6.1 in c:\\users\\asus\\appdata\\roaming\\python\\python312\\site-packages (from ipykernel<7.0.0,>=6.7.0->skimpy) (6.4.1)\n",
      "Requirement already satisfied: traitlets>=5.4.0 in c:\\users\\asus\\appdata\\roaming\\python\\python312\\site-packages (from ipykernel<7.0.0,>=6.7.0->skimpy) (5.14.3)\n",
      "Requirement already satisfied: python-dateutil>=2.8.2 in c:\\users\\asus\\appdata\\roaming\\python\\python312\\site-packages (from pandas<3.0.0,>=2.0.3->skimpy) (2.9.0.post0)\n",
      "Requirement already satisfied: pytz>=2020.1 in c:\\users\\asus\\appdata\\local\\programs\\python\\python312\\lib\\site-packages (from pandas<3.0.0,>=2.0.3->skimpy) (2024.1)\n",
      "Requirement already satisfied: tzdata>=2022.7 in c:\\users\\asus\\appdata\\local\\programs\\python\\python312\\lib\\site-packages (from pandas<3.0.0,>=2.0.3->skimpy) (2024.1)\n",
      "Requirement already satisfied: markdown-it-py>=2.2.0 in c:\\users\\asus\\appdata\\local\\programs\\python\\python312\\lib\\site-packages (from rich<14.0,>=10.9->skimpy) (3.0.0)\n",
      "Requirement already satisfied: decorator in c:\\users\\asus\\appdata\\roaming\\python\\python312\\site-packages (from ipython>=7.23.1->ipykernel<7.0.0,>=6.7.0->skimpy) (5.1.1)\n",
      "Requirement already satisfied: jedi>=0.16 in c:\\users\\asus\\appdata\\roaming\\python\\python312\\site-packages (from ipython>=7.23.1->ipykernel<7.0.0,>=6.7.0->skimpy) (0.19.1)\n",
      "Requirement already satisfied: prompt-toolkit<3.1.0,>=3.0.41 in c:\\users\\asus\\appdata\\roaming\\python\\python312\\site-packages (from ipython>=7.23.1->ipykernel<7.0.0,>=6.7.0->skimpy) (3.0.46)\n",
      "Requirement already satisfied: stack-data in c:\\users\\asus\\appdata\\roaming\\python\\python312\\site-packages (from ipython>=7.23.1->ipykernel<7.0.0,>=6.7.0->skimpy) (0.6.3)\n",
      "Requirement already satisfied: platformdirs>=2.5 in c:\\users\\asus\\appdata\\roaming\\python\\python312\\site-packages (from jupyter-core!=5.0.*,>=4.12->ipykernel<7.0.0,>=6.7.0->skimpy) (4.2.2)\n",
      "Requirement already satisfied: pywin32>=300 in c:\\users\\asus\\appdata\\roaming\\python\\python312\\site-packages (from jupyter-core!=5.0.*,>=4.12->ipykernel<7.0.0,>=6.7.0->skimpy) (306)\n",
      "Requirement already satisfied: mdurl~=0.1 in c:\\users\\asus\\appdata\\local\\programs\\python\\python312\\lib\\site-packages (from markdown-it-py>=2.2.0->rich<14.0,>=10.9->skimpy) (0.1.2)\n",
      "Requirement already satisfied: six>=1.5 in c:\\users\\asus\\appdata\\roaming\\python\\python312\\site-packages (from python-dateutil>=2.8.2->pandas<3.0.0,>=2.0.3->skimpy) (1.16.0)\n",
      "Requirement already satisfied: parso<0.9.0,>=0.8.3 in c:\\users\\asus\\appdata\\roaming\\python\\python312\\site-packages (from jedi>=0.16->ipython>=7.23.1->ipykernel<7.0.0,>=6.7.0->skimpy) (0.8.4)\n",
      "Requirement already satisfied: wcwidth in c:\\users\\asus\\appdata\\roaming\\python\\python312\\site-packages (from prompt-toolkit<3.1.0,>=3.0.41->ipython>=7.23.1->ipykernel<7.0.0,>=6.7.0->skimpy) (0.2.13)\n",
      "Requirement already satisfied: executing>=1.2.0 in c:\\users\\asus\\appdata\\roaming\\python\\python312\\site-packages (from stack-data->ipython>=7.23.1->ipykernel<7.0.0,>=6.7.0->skimpy) (2.0.1)\n",
      "Requirement already satisfied: asttokens>=2.1.0 in c:\\users\\asus\\appdata\\roaming\\python\\python312\\site-packages (from stack-data->ipython>=7.23.1->ipykernel<7.0.0,>=6.7.0->skimpy) (2.4.1)\n",
      "Requirement already satisfied: pure-eval in c:\\users\\asus\\appdata\\roaming\\python\\python312\\site-packages (from stack-data->ipython>=7.23.1->ipykernel<7.0.0,>=6.7.0->skimpy) (0.2.2)\n"
     ]
    },
    {
     "name": "stderr",
     "output_type": "stream",
     "text": [
      "WARNING: Ignoring invalid distribution ~atplotlib (C:\\Users\\Asus\\AppData\\Local\\Programs\\Python\\Python312\\Lib\\site-packages)\n",
      "WARNING: Ignoring invalid distribution ~cipy (C:\\Users\\Asus\\AppData\\Local\\Programs\\Python\\Python312\\Lib\\site-packages)\n",
      "WARNING: Ignoring invalid distribution ~atplotlib (C:\\Users\\Asus\\AppData\\Local\\Programs\\Python\\Python312\\Lib\\site-packages)\n",
      "WARNING: Ignoring invalid distribution ~cipy (C:\\Users\\Asus\\AppData\\Local\\Programs\\Python\\Python312\\Lib\\site-packages)\n",
      "WARNING: Ignoring invalid distribution ~atplotlib (C:\\Users\\Asus\\AppData\\Local\\Programs\\Python\\Python312\\Lib\\site-packages)\n",
      "WARNING: Ignoring invalid distribution ~cipy (C:\\Users\\Asus\\AppData\\Local\\Programs\\Python\\Python312\\Lib\\site-packages)\n"
     ]
    }
   ],
   "source": [
    "# Load the dataset \n",
    "\n",
    "# Display first few rows\n",
    "# Check the structure of the dataset.\n",
    "# Inspect the data types and missing values using df.info()\n",
    "# Get basic statistics for numerical columns with df.describe()\n",
    "# and more..\n",
    "\n",
    "!pip install dtale\n",
    "!pip install skimpy\n",
    "\n",
    "\n",
    "import pandas as pd\n",
    "import numpy as np\n",
    "import matplotlib.pyplot as plt\n",
    "import seaborn as sns\n",
    "\n",
    "import missingno as msno\n",
    "import dtale\n",
    "import warnings\n",
    "warnings.filterwarnings(\"ignore\")\n",
    "\n"
   ]
  },
  {
   "cell_type": "code",
   "execution_count": 5,
   "id": "33b4228e",
   "metadata": {},
   "outputs": [
    {
     "data": {
      "text/html": [
       "<div>\n",
       "<style scoped>\n",
       "    .dataframe tbody tr th:only-of-type {\n",
       "        vertical-align: middle;\n",
       "    }\n",
       "\n",
       "    .dataframe tbody tr th {\n",
       "        vertical-align: top;\n",
       "    }\n",
       "\n",
       "    .dataframe thead th {\n",
       "        text-align: right;\n",
       "    }\n",
       "</style>\n",
       "<table border=\"1\" class=\"dataframe\">\n",
       "  <thead>\n",
       "    <tr style=\"text-align: right;\">\n",
       "      <th></th>\n",
       "      <th>work_year</th>\n",
       "      <th>experience_level</th>\n",
       "      <th>employment_type</th>\n",
       "      <th>job_title</th>\n",
       "      <th>salary</th>\n",
       "      <th>salary_currency</th>\n",
       "      <th>salary_in_usd</th>\n",
       "      <th>employee_residence</th>\n",
       "      <th>remote_ratio</th>\n",
       "      <th>company_location</th>\n",
       "      <th>company_size</th>\n",
       "    </tr>\n",
       "  </thead>\n",
       "  <tbody>\n",
       "    <tr>\n",
       "      <th>0</th>\n",
       "      <td>2021</td>\n",
       "      <td>MI</td>\n",
       "      <td>FT</td>\n",
       "      <td>Data Scientist</td>\n",
       "      <td>30400000</td>\n",
       "      <td>CLP</td>\n",
       "      <td>40038</td>\n",
       "      <td>CL</td>\n",
       "      <td>100</td>\n",
       "      <td>CL</td>\n",
       "      <td>L</td>\n",
       "    </tr>\n",
       "    <tr>\n",
       "      <th>1</th>\n",
       "      <td>2021</td>\n",
       "      <td>MI</td>\n",
       "      <td>FT</td>\n",
       "      <td>BI Data Analyst</td>\n",
       "      <td>11000000</td>\n",
       "      <td>HUF</td>\n",
       "      <td>36259</td>\n",
       "      <td>HU</td>\n",
       "      <td>50</td>\n",
       "      <td>US</td>\n",
       "      <td>L</td>\n",
       "    </tr>\n",
       "    <tr>\n",
       "      <th>2</th>\n",
       "      <td>2020</td>\n",
       "      <td>MI</td>\n",
       "      <td>FT</td>\n",
       "      <td>Data Scientist</td>\n",
       "      <td>11000000</td>\n",
       "      <td>HUF</td>\n",
       "      <td>35735</td>\n",
       "      <td>HU</td>\n",
       "      <td>50</td>\n",
       "      <td>HU</td>\n",
       "      <td>L</td>\n",
       "    </tr>\n",
       "  </tbody>\n",
       "</table>\n",
       "</div>"
      ],
      "text/plain": [
       "   work_year experience_level employment_type        job_title    salary  \\\n",
       "0       2021               MI              FT   Data Scientist  30400000   \n",
       "1       2021               MI              FT  BI Data Analyst  11000000   \n",
       "2       2020               MI              FT   Data Scientist  11000000   \n",
       "\n",
       "  salary_currency  salary_in_usd employee_residence  remote_ratio  \\\n",
       "0             CLP          40038                 CL           100   \n",
       "1             HUF          36259                 HU            50   \n",
       "2             HUF          35735                 HU            50   \n",
       "\n",
       "  company_location company_size  \n",
       "0               CL            L  \n",
       "1               US            L  \n",
       "2               HU            L  "
      ]
     },
     "execution_count": 5,
     "metadata": {},
     "output_type": "execute_result"
    }
   ],
   "source": [
    "df = pd.read_csv(\"DataScience_salaries_2024.csv\")\n",
    "df.head(3)\n"
   ]
  },
  {
   "cell_type": "code",
   "execution_count": 6,
   "id": "0691357d",
   "metadata": {},
   "outputs": [
    {
     "data": {
      "text/html": [
       "<pre style=\"white-space:pre;overflow-x:auto;line-height:normal;font-family:Menlo,'DejaVu Sans Mono',consolas,'Courier New',monospace\">╭──────────────────────────────────────────────── skimpy summary ─────────────────────────────────────────────────╮\n",
       "│ <span style=\"font-style: italic\">         Data Summary         </span> <span style=\"font-style: italic\">      Data Types       </span>                                                          │\n",
       "│ ┏━━━━━━━━━━━━━━━━━━━┳━━━━━━━━┓ ┏━━━━━━━━━━━━━┳━━━━━━━┓                                                          │\n",
       "│ ┃<span style=\"color: #008080; text-decoration-color: #008080; font-weight: bold\"> dataframe         </span>┃<span style=\"color: #008080; text-decoration-color: #008080; font-weight: bold\"> Values </span>┃ ┃<span style=\"color: #008080; text-decoration-color: #008080; font-weight: bold\"> Column Type </span>┃<span style=\"color: #008080; text-decoration-color: #008080; font-weight: bold\"> Count </span>┃                                                          │\n",
       "│ ┡━━━━━━━━━━━━━━━━━━━╇━━━━━━━━┩ ┡━━━━━━━━━━━━━╇━━━━━━━┩                                                          │\n",
       "│ │ Number of rows    │ 14838  │ │ string      │ 7     │                                                          │\n",
       "│ │ Number of columns │ 11     │ │ int32       │ 4     │                                                          │\n",
       "│ └───────────────────┴────────┘ └─────────────┴───────┘                                                          │\n",
       "│ <span style=\"font-style: italic\">                                                    number                                                    </span>  │\n",
       "│ ┏━━━━━━━━━━━━━━━━━┳━━━━━┳━━━━━━━┳━━━━━━━━━┳━━━━━━━━━┳━━━━━━━━┳━━━━━━━━━┳━━━━━━━━┳━━━━━━━━┳━━━━━━━━━━┳━━━━━━━━┓  │\n",
       "│ ┃<span style=\"font-weight: bold\"> column_name     </span>┃<span style=\"font-weight: bold\"> NA  </span>┃<span style=\"font-weight: bold\"> NA %  </span>┃<span style=\"font-weight: bold\"> mean    </span>┃<span style=\"font-weight: bold\"> sd      </span>┃<span style=\"font-weight: bold\"> p0     </span>┃<span style=\"font-weight: bold\"> p25     </span>┃<span style=\"font-weight: bold\"> p50    </span>┃<span style=\"font-weight: bold\"> p75    </span>┃<span style=\"font-weight: bold\"> p100     </span>┃<span style=\"font-weight: bold\"> hist   </span>┃  │\n",
       "│ ┡━━━━━━━━━━━━━━━━━╇━━━━━╇━━━━━━━╇━━━━━━━━━╇━━━━━━━━━╇━━━━━━━━╇━━━━━━━━━╇━━━━━━━━╇━━━━━━━━╇━━━━━━━━━━╇━━━━━━━━┩  │\n",
       "│ │ <span style=\"color: #af87ff; text-decoration-color: #af87ff\">work_year      </span> │ <span style=\"color: #008080; text-decoration-color: #008080\">  0</span> │ <span style=\"color: #008080; text-decoration-color: #008080\">    0</span> │ <span style=\"color: #008080; text-decoration-color: #008080\">   2023</span> │ <span style=\"color: #008080; text-decoration-color: #008080\"> 0.7008</span> │ <span style=\"color: #008080; text-decoration-color: #008080\">  2020</span> │ <span style=\"color: #008080; text-decoration-color: #008080\">   2023</span> │ <span style=\"color: #008080; text-decoration-color: #008080\">  2023</span> │ <span style=\"color: #008080; text-decoration-color: #008080\">  2024</span> │ <span style=\"color: #008080; text-decoration-color: #008080\">    2024</span> │ <span style=\"color: #008000; text-decoration-color: #008000\">   ▂▇▅</span> │  │\n",
       "│ │ <span style=\"color: #af87ff; text-decoration-color: #af87ff\">salary         </span> │ <span style=\"color: #008080; text-decoration-color: #008080\">  0</span> │ <span style=\"color: #008080; text-decoration-color: #008080\">    0</span> │ <span style=\"color: #008080; text-decoration-color: #008080\"> 165000</span> │ <span style=\"color: #008080; text-decoration-color: #008080\"> 356200</span> │ <span style=\"color: #008080; text-decoration-color: #008080\"> 14000</span> │ <span style=\"color: #008080; text-decoration-color: #008080\"> 102100</span> │ <span style=\"color: #008080; text-decoration-color: #008080\">142200</span> │ <span style=\"color: #008080; text-decoration-color: #008080\">187500</span> │ <span style=\"color: #008080; text-decoration-color: #008080\">30400000</span> │ <span style=\"color: #008000; text-decoration-color: #008000\">  ▇   </span> │  │\n",
       "│ │ <span style=\"color: #af87ff; text-decoration-color: #af87ff\">salary_in_usd  </span> │ <span style=\"color: #008080; text-decoration-color: #008080\">  0</span> │ <span style=\"color: #008080; text-decoration-color: #008080\">    0</span> │ <span style=\"color: #008080; text-decoration-color: #008080\"> 149900</span> │ <span style=\"color: #008080; text-decoration-color: #008080\">  69010</span> │ <span style=\"color: #008080; text-decoration-color: #008080\"> 15000</span> │ <span style=\"color: #008080; text-decoration-color: #008080\"> 102000</span> │ <span style=\"color: #008080; text-decoration-color: #008080\">141300</span> │ <span style=\"color: #008080; text-decoration-color: #008080\">185900</span> │ <span style=\"color: #008080; text-decoration-color: #008080\">  800000</span> │ <span style=\"color: #008000; text-decoration-color: #008000\"> ▇▆▁  </span> │  │\n",
       "│ │ <span style=\"color: #af87ff; text-decoration-color: #af87ff\">remote_ratio   </span> │ <span style=\"color: #008080; text-decoration-color: #008080\">  0</span> │ <span style=\"color: #008080; text-decoration-color: #008080\">    0</span> │ <span style=\"color: #008080; text-decoration-color: #008080\">  32.76</span> │ <span style=\"color: #008080; text-decoration-color: #008080\">  46.49</span> │ <span style=\"color: #008080; text-decoration-color: #008080\">     0</span> │ <span style=\"color: #008080; text-decoration-color: #008080\">      0</span> │ <span style=\"color: #008080; text-decoration-color: #008080\">     0</span> │ <span style=\"color: #008080; text-decoration-color: #008080\">   100</span> │ <span style=\"color: #008080; text-decoration-color: #008080\">     100</span> │ <span style=\"color: #008000; text-decoration-color: #008000\">▇    ▃</span> │  │\n",
       "│ └─────────────────┴─────┴───────┴─────────┴─────────┴────────┴─────────┴────────┴────────┴──────────┴────────┘  │\n",
       "│ <span style=\"font-style: italic\">                                                    string                                                    </span>  │\n",
       "│ ┏━━━━━━━━━━━━━━━━━━━━━━━━━━━━━━━━━━━━┳━━━━━━━━┳━━━━━━━━━━━┳━━━━━━━━━━━━━━━━━━━━━━━━━━━┳━━━━━━━━━━━━━━━━━━━━━━┓  │\n",
       "│ ┃<span style=\"font-weight: bold\"> column_name                        </span>┃<span style=\"font-weight: bold\"> NA     </span>┃<span style=\"font-weight: bold\"> NA %      </span>┃<span style=\"font-weight: bold\"> words per row             </span>┃<span style=\"font-weight: bold\"> total words          </span>┃  │\n",
       "│ ┡━━━━━━━━━━━━━━━━━━━━━━━━━━━━━━━━━━━━╇━━━━━━━━╇━━━━━━━━━━━╇━━━━━━━━━━━━━━━━━━━━━━━━━━━╇━━━━━━━━━━━━━━━━━━━━━━┩  │\n",
       "│ │ <span style=\"color: #af87ff; text-decoration-color: #af87ff\">experience_level                  </span> │ <span style=\"color: #008080; text-decoration-color: #008080\">     0</span> │ <span style=\"color: #008080; text-decoration-color: #008080\">        0</span> │ <span style=\"color: #008080; text-decoration-color: #008080\">                        1</span> │ <span style=\"color: #008080; text-decoration-color: #008080\">               14838</span> │  │\n",
       "│ │ <span style=\"color: #af87ff; text-decoration-color: #af87ff\">employment_type                   </span> │ <span style=\"color: #008080; text-decoration-color: #008080\">     0</span> │ <span style=\"color: #008080; text-decoration-color: #008080\">        0</span> │ <span style=\"color: #008080; text-decoration-color: #008080\">                        1</span> │ <span style=\"color: #008080; text-decoration-color: #008080\">               14838</span> │  │\n",
       "│ │ <span style=\"color: #af87ff; text-decoration-color: #af87ff\">job_title                         </span> │ <span style=\"color: #008080; text-decoration-color: #008080\">     0</span> │ <span style=\"color: #008080; text-decoration-color: #008080\">        0</span> │ <span style=\"color: #008080; text-decoration-color: #008080\">                      2.2</span> │ <span style=\"color: #008080; text-decoration-color: #008080\">               33024</span> │  │\n",
       "│ │ <span style=\"color: #af87ff; text-decoration-color: #af87ff\">salary_currency                   </span> │ <span style=\"color: #008080; text-decoration-color: #008080\">     0</span> │ <span style=\"color: #008080; text-decoration-color: #008080\">        0</span> │ <span style=\"color: #008080; text-decoration-color: #008080\">                        1</span> │ <span style=\"color: #008080; text-decoration-color: #008080\">               14838</span> │  │\n",
       "│ │ <span style=\"color: #af87ff; text-decoration-color: #af87ff\">employee_residence                </span> │ <span style=\"color: #008080; text-decoration-color: #008080\">     0</span> │ <span style=\"color: #008080; text-decoration-color: #008080\">        0</span> │ <span style=\"color: #008080; text-decoration-color: #008080\">                        1</span> │ <span style=\"color: #008080; text-decoration-color: #008080\">               14838</span> │  │\n",
       "│ │ <span style=\"color: #af87ff; text-decoration-color: #af87ff\">company_location                  </span> │ <span style=\"color: #008080; text-decoration-color: #008080\">     0</span> │ <span style=\"color: #008080; text-decoration-color: #008080\">        0</span> │ <span style=\"color: #008080; text-decoration-color: #008080\">                        1</span> │ <span style=\"color: #008080; text-decoration-color: #008080\">               14838</span> │  │\n",
       "│ │ <span style=\"color: #af87ff; text-decoration-color: #af87ff\">company_size                      </span> │ <span style=\"color: #008080; text-decoration-color: #008080\">     0</span> │ <span style=\"color: #008080; text-decoration-color: #008080\">        0</span> │ <span style=\"color: #008080; text-decoration-color: #008080\">                        1</span> │ <span style=\"color: #008080; text-decoration-color: #008080\">               14838</span> │  │\n",
       "│ └────────────────────────────────────┴────────┴───────────┴───────────────────────────┴──────────────────────┘  │\n",
       "╰────────────────────────────────────────────────────── End ──────────────────────────────────────────────────────╯\n",
       "</pre>\n"
      ],
      "text/plain": [
       "╭──────────────────────────────────────────────── skimpy summary ─────────────────────────────────────────────────╮\n",
       "│ \u001b[3m         Data Summary         \u001b[0m \u001b[3m      Data Types       \u001b[0m                                                          │\n",
       "│ ┏━━━━━━━━━━━━━━━━━━━┳━━━━━━━━┓ ┏━━━━━━━━━━━━━┳━━━━━━━┓                                                          │\n",
       "│ ┃\u001b[1;36m \u001b[0m\u001b[1;36mdataframe        \u001b[0m\u001b[1;36m \u001b[0m┃\u001b[1;36m \u001b[0m\u001b[1;36mValues\u001b[0m\u001b[1;36m \u001b[0m┃ ┃\u001b[1;36m \u001b[0m\u001b[1;36mColumn Type\u001b[0m\u001b[1;36m \u001b[0m┃\u001b[1;36m \u001b[0m\u001b[1;36mCount\u001b[0m\u001b[1;36m \u001b[0m┃                                                          │\n",
       "│ ┡━━━━━━━━━━━━━━━━━━━╇━━━━━━━━┩ ┡━━━━━━━━━━━━━╇━━━━━━━┩                                                          │\n",
       "│ │ Number of rows    │ 14838  │ │ string      │ 7     │                                                          │\n",
       "│ │ Number of columns │ 11     │ │ int32       │ 4     │                                                          │\n",
       "│ └───────────────────┴────────┘ └─────────────┴───────┘                                                          │\n",
       "│ \u001b[3m                                                    number                                                    \u001b[0m  │\n",
       "│ ┏━━━━━━━━━━━━━━━━━┳━━━━━┳━━━━━━━┳━━━━━━━━━┳━━━━━━━━━┳━━━━━━━━┳━━━━━━━━━┳━━━━━━━━┳━━━━━━━━┳━━━━━━━━━━┳━━━━━━━━┓  │\n",
       "│ ┃\u001b[1m \u001b[0m\u001b[1mcolumn_name    \u001b[0m\u001b[1m \u001b[0m┃\u001b[1m \u001b[0m\u001b[1mNA \u001b[0m\u001b[1m \u001b[0m┃\u001b[1m \u001b[0m\u001b[1mNA % \u001b[0m\u001b[1m \u001b[0m┃\u001b[1m \u001b[0m\u001b[1mmean   \u001b[0m\u001b[1m \u001b[0m┃\u001b[1m \u001b[0m\u001b[1msd     \u001b[0m\u001b[1m \u001b[0m┃\u001b[1m \u001b[0m\u001b[1mp0    \u001b[0m\u001b[1m \u001b[0m┃\u001b[1m \u001b[0m\u001b[1mp25    \u001b[0m\u001b[1m \u001b[0m┃\u001b[1m \u001b[0m\u001b[1mp50   \u001b[0m\u001b[1m \u001b[0m┃\u001b[1m \u001b[0m\u001b[1mp75   \u001b[0m\u001b[1m \u001b[0m┃\u001b[1m \u001b[0m\u001b[1mp100    \u001b[0m\u001b[1m \u001b[0m┃\u001b[1m \u001b[0m\u001b[1mhist  \u001b[0m\u001b[1m \u001b[0m┃  │\n",
       "│ ┡━━━━━━━━━━━━━━━━━╇━━━━━╇━━━━━━━╇━━━━━━━━━╇━━━━━━━━━╇━━━━━━━━╇━━━━━━━━━╇━━━━━━━━╇━━━━━━━━╇━━━━━━━━━━╇━━━━━━━━┩  │\n",
       "│ │ \u001b[38;5;141mwork_year      \u001b[0m │ \u001b[36m  0\u001b[0m │ \u001b[36m    0\u001b[0m │ \u001b[36m   2023\u001b[0m │ \u001b[36m 0.7008\u001b[0m │ \u001b[36m  2020\u001b[0m │ \u001b[36m   2023\u001b[0m │ \u001b[36m  2023\u001b[0m │ \u001b[36m  2024\u001b[0m │ \u001b[36m    2024\u001b[0m │ \u001b[32m   ▂▇▅\u001b[0m │  │\n",
       "│ │ \u001b[38;5;141msalary         \u001b[0m │ \u001b[36m  0\u001b[0m │ \u001b[36m    0\u001b[0m │ \u001b[36m 165000\u001b[0m │ \u001b[36m 356200\u001b[0m │ \u001b[36m 14000\u001b[0m │ \u001b[36m 102100\u001b[0m │ \u001b[36m142200\u001b[0m │ \u001b[36m187500\u001b[0m │ \u001b[36m30400000\u001b[0m │ \u001b[32m  ▇   \u001b[0m │  │\n",
       "│ │ \u001b[38;5;141msalary_in_usd  \u001b[0m │ \u001b[36m  0\u001b[0m │ \u001b[36m    0\u001b[0m │ \u001b[36m 149900\u001b[0m │ \u001b[36m  69010\u001b[0m │ \u001b[36m 15000\u001b[0m │ \u001b[36m 102000\u001b[0m │ \u001b[36m141300\u001b[0m │ \u001b[36m185900\u001b[0m │ \u001b[36m  800000\u001b[0m │ \u001b[32m ▇▆▁  \u001b[0m │  │\n",
       "│ │ \u001b[38;5;141mremote_ratio   \u001b[0m │ \u001b[36m  0\u001b[0m │ \u001b[36m    0\u001b[0m │ \u001b[36m  32.76\u001b[0m │ \u001b[36m  46.49\u001b[0m │ \u001b[36m     0\u001b[0m │ \u001b[36m      0\u001b[0m │ \u001b[36m     0\u001b[0m │ \u001b[36m   100\u001b[0m │ \u001b[36m     100\u001b[0m │ \u001b[32m▇    ▃\u001b[0m │  │\n",
       "│ └─────────────────┴─────┴───────┴─────────┴─────────┴────────┴─────────┴────────┴────────┴──────────┴────────┘  │\n",
       "│ \u001b[3m                                                    string                                                    \u001b[0m  │\n",
       "│ ┏━━━━━━━━━━━━━━━━━━━━━━━━━━━━━━━━━━━━┳━━━━━━━━┳━━━━━━━━━━━┳━━━━━━━━━━━━━━━━━━━━━━━━━━━┳━━━━━━━━━━━━━━━━━━━━━━┓  │\n",
       "│ ┃\u001b[1m \u001b[0m\u001b[1mcolumn_name                       \u001b[0m\u001b[1m \u001b[0m┃\u001b[1m \u001b[0m\u001b[1mNA    \u001b[0m\u001b[1m \u001b[0m┃\u001b[1m \u001b[0m\u001b[1mNA %     \u001b[0m\u001b[1m \u001b[0m┃\u001b[1m \u001b[0m\u001b[1mwords per row            \u001b[0m\u001b[1m \u001b[0m┃\u001b[1m \u001b[0m\u001b[1mtotal words         \u001b[0m\u001b[1m \u001b[0m┃  │\n",
       "│ ┡━━━━━━━━━━━━━━━━━━━━━━━━━━━━━━━━━━━━╇━━━━━━━━╇━━━━━━━━━━━╇━━━━━━━━━━━━━━━━━━━━━━━━━━━╇━━━━━━━━━━━━━━━━━━━━━━┩  │\n",
       "│ │ \u001b[38;5;141mexperience_level                  \u001b[0m │ \u001b[36m     0\u001b[0m │ \u001b[36m        0\u001b[0m │ \u001b[36m                        1\u001b[0m │ \u001b[36m               14838\u001b[0m │  │\n",
       "│ │ \u001b[38;5;141memployment_type                   \u001b[0m │ \u001b[36m     0\u001b[0m │ \u001b[36m        0\u001b[0m │ \u001b[36m                        1\u001b[0m │ \u001b[36m               14838\u001b[0m │  │\n",
       "│ │ \u001b[38;5;141mjob_title                         \u001b[0m │ \u001b[36m     0\u001b[0m │ \u001b[36m        0\u001b[0m │ \u001b[36m                      2.2\u001b[0m │ \u001b[36m               33024\u001b[0m │  │\n",
       "│ │ \u001b[38;5;141msalary_currency                   \u001b[0m │ \u001b[36m     0\u001b[0m │ \u001b[36m        0\u001b[0m │ \u001b[36m                        1\u001b[0m │ \u001b[36m               14838\u001b[0m │  │\n",
       "│ │ \u001b[38;5;141memployee_residence                \u001b[0m │ \u001b[36m     0\u001b[0m │ \u001b[36m        0\u001b[0m │ \u001b[36m                        1\u001b[0m │ \u001b[36m               14838\u001b[0m │  │\n",
       "│ │ \u001b[38;5;141mcompany_location                  \u001b[0m │ \u001b[36m     0\u001b[0m │ \u001b[36m        0\u001b[0m │ \u001b[36m                        1\u001b[0m │ \u001b[36m               14838\u001b[0m │  │\n",
       "│ │ \u001b[38;5;141mcompany_size                      \u001b[0m │ \u001b[36m     0\u001b[0m │ \u001b[36m        0\u001b[0m │ \u001b[36m                        1\u001b[0m │ \u001b[36m               14838\u001b[0m │  │\n",
       "│ └────────────────────────────────────┴────────┴───────────┴───────────────────────────┴──────────────────────┘  │\n",
       "╰────────────────────────────────────────────────────── End ──────────────────────────────────────────────────────╯\n"
      ]
     },
     "metadata": {},
     "output_type": "display_data"
    }
   ],
   "source": [
    "from skimpy import skim\n",
    "skim(df) # DEtaylı bir şekilde veri yapısı"
   ]
  },
  {
   "cell_type": "code",
   "execution_count": 7,
   "id": "c0e7fd7e",
   "metadata": {},
   "outputs": [],
   "source": [
    "d = dtale.show(df)\n",
    "d.open_browser() # Verinin tamamını browserda da gösterdik"
   ]
  },
  {
   "cell_type": "code",
   "execution_count": 8,
   "id": "9deac523",
   "metadata": {},
   "outputs": [
    {
     "name": "stdout",
     "output_type": "stream",
     "text": [
      "<class 'pandas.core.frame.DataFrame'>\n",
      "RangeIndex: 14838 entries, 0 to 14837\n",
      "Data columns (total 11 columns):\n",
      " #   Column              Non-Null Count  Dtype \n",
      "---  ------              --------------  ----- \n",
      " 0   work_year           14838 non-null  int64 \n",
      " 1   experience_level    14838 non-null  object\n",
      " 2   employment_type     14838 non-null  object\n",
      " 3   job_title           14838 non-null  object\n",
      " 4   salary              14838 non-null  int64 \n",
      " 5   salary_currency     14838 non-null  object\n",
      " 6   salary_in_usd       14838 non-null  int64 \n",
      " 7   employee_residence  14838 non-null  object\n",
      " 8   remote_ratio        14838 non-null  int64 \n",
      " 9   company_location    14838 non-null  object\n",
      " 10  company_size        14838 non-null  object\n",
      "dtypes: int64(4), object(7)\n",
      "memory usage: 1.2+ MB\n"
     ]
    }
   ],
   "source": [
    "df.info() # Datasetle ilgili alanların tespiti. Boş alanların veri tipleri ve miktarı ile ilgili bilgi"
   ]
  },
  {
   "cell_type": "code",
   "execution_count": 9,
   "id": "7de9c9ce",
   "metadata": {},
   "outputs": [
    {
     "data": {
      "text/plain": [
       "(14838, 11)"
      ]
     },
     "execution_count": 9,
     "metadata": {},
     "output_type": "execute_result"
    }
   ],
   "source": [
    "df.shape"
   ]
  },
  {
   "cell_type": "code",
   "execution_count": 10,
   "id": "2f10ca9f",
   "metadata": {},
   "outputs": [
    {
     "data": {
      "text/plain": [
       "Index(['work_year', 'experience_level', 'employment_type', 'job_title',\n",
       "       'salary', 'salary_currency', 'salary_in_usd', 'employee_residence',\n",
       "       'remote_ratio', 'company_location', 'company_size'],\n",
       "      dtype='object')"
      ]
     },
     "execution_count": 10,
     "metadata": {},
     "output_type": "execute_result"
    }
   ],
   "source": [
    "df.columns"
   ]
  },
  {
   "cell_type": "code",
   "execution_count": 11,
   "id": "58064d07",
   "metadata": {},
   "outputs": [
    {
     "data": {
      "text/html": [
       "<div>\n",
       "<style scoped>\n",
       "    .dataframe tbody tr th:only-of-type {\n",
       "        vertical-align: middle;\n",
       "    }\n",
       "\n",
       "    .dataframe tbody tr th {\n",
       "        vertical-align: top;\n",
       "    }\n",
       "\n",
       "    .dataframe thead th {\n",
       "        text-align: right;\n",
       "    }\n",
       "</style>\n",
       "<table border=\"1\" class=\"dataframe\">\n",
       "  <thead>\n",
       "    <tr style=\"text-align: right;\">\n",
       "      <th></th>\n",
       "      <th>work_year</th>\n",
       "      <th>salary</th>\n",
       "      <th>salary_in_usd</th>\n",
       "      <th>remote_ratio</th>\n",
       "    </tr>\n",
       "  </thead>\n",
       "  <tbody>\n",
       "    <tr>\n",
       "      <th>count</th>\n",
       "      <td>14838.000000</td>\n",
       "      <td>1.483800e+04</td>\n",
       "      <td>14838.000000</td>\n",
       "      <td>14838.000000</td>\n",
       "    </tr>\n",
       "    <tr>\n",
       "      <th>mean</th>\n",
       "      <td>2023.138900</td>\n",
       "      <td>1.650227e+05</td>\n",
       "      <td>149874.718763</td>\n",
       "      <td>32.760480</td>\n",
       "    </tr>\n",
       "    <tr>\n",
       "      <th>std</th>\n",
       "      <td>0.700799</td>\n",
       "      <td>3.562354e+05</td>\n",
       "      <td>69009.181349</td>\n",
       "      <td>46.488278</td>\n",
       "    </tr>\n",
       "    <tr>\n",
       "      <th>min</th>\n",
       "      <td>2020.000000</td>\n",
       "      <td>1.400000e+04</td>\n",
       "      <td>15000.000000</td>\n",
       "      <td>0.000000</td>\n",
       "    </tr>\n",
       "    <tr>\n",
       "      <th>25%</th>\n",
       "      <td>2023.000000</td>\n",
       "      <td>1.021000e+05</td>\n",
       "      <td>102000.000000</td>\n",
       "      <td>0.000000</td>\n",
       "    </tr>\n",
       "    <tr>\n",
       "      <th>50%</th>\n",
       "      <td>2023.000000</td>\n",
       "      <td>1.422000e+05</td>\n",
       "      <td>141300.000000</td>\n",
       "      <td>0.000000</td>\n",
       "    </tr>\n",
       "    <tr>\n",
       "      <th>75%</th>\n",
       "      <td>2024.000000</td>\n",
       "      <td>1.875000e+05</td>\n",
       "      <td>185900.000000</td>\n",
       "      <td>100.000000</td>\n",
       "    </tr>\n",
       "    <tr>\n",
       "      <th>max</th>\n",
       "      <td>2024.000000</td>\n",
       "      <td>3.040000e+07</td>\n",
       "      <td>800000.000000</td>\n",
       "      <td>100.000000</td>\n",
       "    </tr>\n",
       "  </tbody>\n",
       "</table>\n",
       "</div>"
      ],
      "text/plain": [
       "          work_year        salary  salary_in_usd  remote_ratio\n",
       "count  14838.000000  1.483800e+04   14838.000000  14838.000000\n",
       "mean    2023.138900  1.650227e+05  149874.718763     32.760480\n",
       "std        0.700799  3.562354e+05   69009.181349     46.488278\n",
       "min     2020.000000  1.400000e+04   15000.000000      0.000000\n",
       "25%     2023.000000  1.021000e+05  102000.000000      0.000000\n",
       "50%     2023.000000  1.422000e+05  141300.000000      0.000000\n",
       "75%     2024.000000  1.875000e+05  185900.000000    100.000000\n",
       "max     2024.000000  3.040000e+07  800000.000000    100.000000"
      ]
     },
     "execution_count": 11,
     "metadata": {},
     "output_type": "execute_result"
    }
   ],
   "source": [
    "df.describe() #Numerik kolonlar"
   ]
  },
  {
   "cell_type": "markdown",
   "id": "6918e879",
   "metadata": {},
   "source": [
    "## Step 2: Analyzing and Handling Missing Values"
   ]
  },
  {
   "cell_type": "code",
   "execution_count": 12,
   "id": "f3b65b83",
   "metadata": {},
   "outputs": [
    {
     "data": {
      "text/plain": [
       "work_year             0\n",
       "experience_level      0\n",
       "employment_type       0\n",
       "job_title             0\n",
       "salary                0\n",
       "salary_currency       0\n",
       "salary_in_usd         0\n",
       "employee_residence    0\n",
       "remote_ratio          0\n",
       "company_location      0\n",
       "company_size          0\n",
       "dtype: int64"
      ]
     },
     "execution_count": 12,
     "metadata": {},
     "output_type": "execute_result"
    }
   ],
   "source": [
    "# Checking for missing values\n",
    "\n",
    "# Fill missing values with your strategy\n",
    "\n",
    "\n",
    "\n",
    "df.isnull().sum() #Boş alan dataların dökümü\n",
    "\n",
    "\n"
   ]
  },
  {
   "cell_type": "code",
   "execution_count": 13,
   "id": "2feda979",
   "metadata": {},
   "outputs": [
    {
     "data": {
      "text/plain": [
       "<Axes: >"
      ]
     },
     "execution_count": 13,
     "metadata": {},
     "output_type": "execute_result"
    },
    {
     "data": {
      "image/png": "[encoded data removed]",
      "text/plain": [
       "<Figure size 2500x1000 with 2 Axes>"
      ]
     },
     "metadata": {},
     "output_type": "display_data"
    }
   ],
   "source": [
    "import missingno as msno\n",
    "msno.matrix(df)  #Missing value shown as a grafic"
   ]
  },
  {
   "cell_type": "code",
   "execution_count": 14,
   "id": "8ad9d7f9",
   "metadata": {},
   "outputs": [
    {
     "data": {
      "text/plain": [
       "5711"
      ]
     },
     "execution_count": 14,
     "metadata": {},
     "output_type": "execute_result"
    }
   ],
   "source": [
    "df.duplicated().sum()\n"
   ]
  },
  {
   "cell_type": "markdown",
   "id": "ae29c195",
   "metadata": {},
   "source": [
    "## Step 3: Cleaning Inconsistent and Invalid Data"
   ]
  },
  {
   "cell_type": "code",
   "execution_count": 19,
   "id": "c456718c",
   "metadata": {},
   "outputs": [
    {
     "name": "stdout",
     "output_type": "stream",
     "text": [
      "['CLP' 'HUF' 'JPY' 'INR' 'ILS' 'NOK' 'THB' 'PHP' 'USD' 'MXN' 'ZAR' 'HKD'\n",
      " 'CAD' 'TRY' 'GBP' 'EUR' 'DKK' 'CHF' 'NZD' 'PLN' 'BRL' 'AUD' 'SGD']\n",
      "['CLP' 'HUF' 'JPY' 'INR' 'ILS' 'NOK' 'THB' 'PHP' 'USD' 'MXN' 'ZAR' 'HKD'\n",
      " 'CAD' 'TRY' 'GBP' 'EUR' 'DKK' 'CHF' 'NZD' 'PLN' 'BRL' 'AUD' 'SGD']\n"
     ]
    }
   ],
   "source": [
    "# Fixing inconsistent values in 'salary_currency'  \n",
    "\n",
    "# Cleaning up 'job_title' ---- JOB_TITLE MI KATEGORİ Mİ\n",
    "\n",
    "# Correcting negative salary values\n",
    "\n",
    "# and more\n",
    "\n",
    "print(df['salary_currency'].unique())\n",
    "\n",
    "def standartlastir_para_birimi(deger):\n",
    "    deger = str(deger).strip().upper()\n",
    "    \n",
    "    # Para birimi eşleştirmeleri\n",
    "    eslesme = {\n",
    "        \n",
    "        'EUR': ['EUR', 'EURO', '€'],\n",
    "        'JPY': ['JPY', 'JAPON YEN', '¥'],\n",
    "        'INR': ['INR', 'INDIAN RUPEE', ' ₹'],\n",
    "        'US DOLARS': ['US', 'DOLAR', '$'],\n",
    "        'GBP': ['GBP', 'POUND STERLING', '£'],\n",
    "        # Diğer para birimleri için buraya daha fazla eşleştirme ekleyebilirsiniz\n",
    "    }\n",
    "    \n",
    "    for standart, varyasyonlar in eslesme.items():\n",
    "        if deger in varyasyonlar:\n",
    "            return standart\n",
    "    \n",
    "    return deger  # Eşleşme bulunamazsa orijinal değeri döndür\n",
    "\n",
    "# Fonksiyonu uygulayarak değerleri standartlaştırın\n",
    "df['salary_currency'] = df['salary_currency'].apply(standartlastir_para_birimi)\n",
    "\n",
    "# Düzeltmeden sonra benzersiz değerleri tekrar kontrol edin\n",
    "print(df['salary_currency'].unique())\n",
    "\n",
    "# Değişiklikleri kaydedin\n",
    "df.to_csv('jobs_in_data_science_dataset.csv', index=False)\n",
    "\n",
    "\n",
    "\n",
    "\n",
    "\n"
   ]
  },
  {
   "cell_type": "markdown",
   "id": "f38e761b",
   "metadata": {},
   "source": [
    "## Step 4: Detecting and Handling Outliers"
   ]
  },
  {
   "cell_type": "code",
   "execution_count": 20,
   "id": "ad7bbf75",
   "metadata": {},
   "outputs": [
    {
     "name": "stdout",
     "output_type": "stream",
     "text": [
      "Orijinal veri seti boyutu: (14838, 11)\n"
     ]
    },
    {
     "data": {
      "image/png": "[encoded data removed]",
      "text/plain": [
       "<Figure size 1000x600 with 1 Axes>"
      ]
     },
     "metadata": {},
     "output_type": "display_data"
    },
    {
     "name": "stdout",
     "output_type": "stream",
     "text": [
      "Temizlenmiş veri seti boyutu: (14511, 11)\n"
     ]
    },
    {
     "data": {
      "image/png": "[encoded data removed]",
      "text/plain": [
       "<Figure size 1000x600 with 1 Axes>"
      ]
     },
     "metadata": {},
     "output_type": "display_data"
    }
   ],
   "source": [
    "# Boxplot for outlier detection\n",
    "\n",
    "# Example: Removing outliers\n",
    "# df = df[df['salary'] < df['salary'].quantile(0.99)]\n",
    "\n",
    "\n",
    "\n",
    "\n",
    "def remove_outliers(df, column, whisker_width=1.5):\n",
    "    Q1 = df[column].quantile(0.25)\n",
    "    Q3 = df[column].quantile(0.75)\n",
    "    IQR = Q3 - Q1\n",
    "    lower_bound = Q1 - (whisker_width * IQR)\n",
    "    upper_bound = Q3 + (whisker_width * IQR)\n",
    "    \n",
    "    return df[(df[column] >= lower_bound) & (df[column] <= upper_bound)]\n",
    "\n",
    "# Aykırı değerleri çıkarmadan önce veri setinin boyutunu yazdırın\n",
    "print(\"Orijinal veri seti boyutu:\", df.shape)\n",
    "\n",
    "# Kutu grafiğini çizin\n",
    "plt.figure(figsize=(10, 6))\n",
    "sns.boxplot(x=df['salary'])\n",
    "plt.title('Maaş Dağılımı - Aykırı Değerler Çıkarılmadan Önce')\n",
    "plt.show()\n",
    "\n",
    "# Aykırı değerleri çıkarın\n",
    "df_cleaned = remove_outliers(df, 'salary')\n",
    "\n",
    "# Aykırı değerleri çıkardıktan sonra veri setinin boyutunu yazdırın\n",
    "print(\"Temizlenmiş veri seti boyutu:\", df_cleaned.shape)\n",
    "\n",
    "# Temizlenmiş veri seti için yeni bir kutu grafiği çizin\n",
    "plt.figure(figsize=(10, 6))\n",
    "sns.boxplot(x=df_cleaned['salary'])\n",
    "plt.title('Maaş Dağılımı - Aykırı Değerler Çıkarıldıktan Sonra')\n",
    "plt.show()\n",
    "\n",
    "# Temizlenmiş veri setini kaydedin\n",
    "df_cleaned.to_csv('jobs_in_data_science_dataset.csv' , index=False)\n"
   ]
  },
  {
   "cell_type": "markdown",
   "id": "1108bc81",
   "metadata": {},
   "source": [
    "## Step 5: Data Visualization"
   ]
  },
  {
   "cell_type": "markdown",
   "id": "f3ab5053",
   "metadata": {},
   "source": [
    "### Compare Salary Distributions by Job Category"
   ]
  },
  {
   "cell_type": "code",
   "execution_count": 21,
   "id": "a106808e",
   "metadata": {},
   "outputs": [
    {
     "ename": "ValueError",
     "evalue": "Could not interpret value `job_category` for `x`. An entry with this name does not appear in `data`.",
     "output_type": "error",
     "traceback": [
      "\u001b[1;31m---------------------------------------------------------------------------\u001b[0m",
      "\u001b[1;31mValueError\u001b[0m                                Traceback (most recent call last)",
      "Cell \u001b[1;32mIn[21], line 4\u001b[0m\n\u001b[0;32m      1\u001b[0m \u001b[38;5;66;03m# Bar chart for salary by job category\u001b[39;00m\n\u001b[0;32m      3\u001b[0m fig, ax \u001b[38;5;241m=\u001b[39m plt\u001b[38;5;241m.\u001b[39msubplots(figsize \u001b[38;5;241m=\u001b[39m (\u001b[38;5;241m14\u001b[39m, \u001b[38;5;241m6\u001b[39m))\n\u001b[1;32m----> 4\u001b[0m \u001b[43msns\u001b[49m\u001b[38;5;241;43m.\u001b[39;49m\u001b[43mbarplot\u001b[49m\u001b[43m(\u001b[49m\u001b[43mx\u001b[49m\u001b[38;5;241;43m=\u001b[39;49m\u001b[38;5;124;43m'\u001b[39;49m\u001b[38;5;124;43mjob_category\u001b[39;49m\u001b[38;5;124;43m'\u001b[39;49m\u001b[43m,\u001b[49m\u001b[43m \u001b[49m\u001b[43my\u001b[49m\u001b[38;5;241;43m=\u001b[39;49m\u001b[38;5;124;43m'\u001b[39;49m\u001b[38;5;124;43msalary\u001b[39;49m\u001b[38;5;124;43m'\u001b[39;49m\u001b[43m,\u001b[49m\u001b[43m \u001b[49m\u001b[43mdata\u001b[49m\u001b[38;5;241;43m=\u001b[39;49m\u001b[43mdf\u001b[49m\u001b[43m,\u001b[49m\u001b[43m \u001b[49m\u001b[43mpalette\u001b[49m\u001b[38;5;241;43m=\u001b[39;49m\u001b[38;5;124;43m'\u001b[39;49m\u001b[38;5;124;43mviridis\u001b[39;49m\u001b[38;5;124;43m'\u001b[39;49m\u001b[43m)\u001b[49m\n\u001b[0;32m      6\u001b[0m \u001b[38;5;28;01mfor\u001b[39;00m p \u001b[38;5;129;01min\u001b[39;00m ax\u001b[38;5;241m.\u001b[39mpatches:\n\u001b[0;32m      7\u001b[0m     ax\u001b[38;5;241m.\u001b[39mannotate(\u001b[38;5;124mf\u001b[39m\u001b[38;5;124m\"\u001b[39m\u001b[38;5;132;01m{\u001b[39;00m\u001b[38;5;28mint\u001b[39m(p\u001b[38;5;241m.\u001b[39mget_width())\u001b[38;5;132;01m}\u001b[39;00m\u001b[38;5;124m\"\u001b[39m, (p\u001b[38;5;241m.\u001b[39mget_width() \u001b[38;5;241m+\u001b[39m \u001b[38;5;241m1\u001b[39m, p\u001b[38;5;241m.\u001b[39mget_y() \u001b[38;5;241m+\u001b[39m \u001b[38;5;241m0.5\u001b[39m), fontsize\u001b[38;5;241m=\u001b[39m\u001b[38;5;241m10\u001b[39m, color\u001b[38;5;241m=\u001b[39mp\u001b[38;5;241m.\u001b[39mget_facecolor(), fontweight\u001b[38;5;241m=\u001b[39m\u001b[38;5;124m'\u001b[39m\u001b[38;5;124mbold\u001b[39m\u001b[38;5;124m'\u001b[39m)\n",
      "File \u001b[1;32mc:\\Users\\Asus\\AppData\\Local\\Programs\\Python\\Python312\\Lib\\site-packages\\seaborn\\categorical.py:2341\u001b[0m, in \u001b[0;36mbarplot\u001b[1;34m(data, x, y, hue, order, hue_order, estimator, errorbar, n_boot, seed, units, weights, orient, color, palette, saturation, fill, hue_norm, width, dodge, gap, log_scale, native_scale, formatter, legend, capsize, err_kws, ci, errcolor, errwidth, ax, **kwargs)\u001b[0m\n\u001b[0;32m   2338\u001b[0m \u001b[38;5;28;01mif\u001b[39;00m estimator \u001b[38;5;129;01mis\u001b[39;00m \u001b[38;5;28mlen\u001b[39m:\n\u001b[0;32m   2339\u001b[0m     estimator \u001b[38;5;241m=\u001b[39m \u001b[38;5;124m\"\u001b[39m\u001b[38;5;124msize\u001b[39m\u001b[38;5;124m\"\u001b[39m\n\u001b[1;32m-> 2341\u001b[0m p \u001b[38;5;241m=\u001b[39m \u001b[43m_CategoricalAggPlotter\u001b[49m\u001b[43m(\u001b[49m\n\u001b[0;32m   2342\u001b[0m \u001b[43m    \u001b[49m\u001b[43mdata\u001b[49m\u001b[38;5;241;43m=\u001b[39;49m\u001b[43mdata\u001b[49m\u001b[43m,\u001b[49m\n\u001b[0;32m   2343\u001b[0m \u001b[43m    \u001b[49m\u001b[43mvariables\u001b[49m\u001b[38;5;241;43m=\u001b[39;49m\u001b[38;5;28;43mdict\u001b[39;49m\u001b[43m(\u001b[49m\u001b[43mx\u001b[49m\u001b[38;5;241;43m=\u001b[39;49m\u001b[43mx\u001b[49m\u001b[43m,\u001b[49m\u001b[43m \u001b[49m\u001b[43my\u001b[49m\u001b[38;5;241;43m=\u001b[39;49m\u001b[43my\u001b[49m\u001b[43m,\u001b[49m\u001b[43m \u001b[49m\u001b[43mhue\u001b[49m\u001b[38;5;241;43m=\u001b[39;49m\u001b[43mhue\u001b[49m\u001b[43m,\u001b[49m\u001b[43m \u001b[49m\u001b[43munits\u001b[49m\u001b[38;5;241;43m=\u001b[39;49m\u001b[43munits\u001b[49m\u001b[43m,\u001b[49m\u001b[43m \u001b[49m\u001b[43mweight\u001b[49m\u001b[38;5;241;43m=\u001b[39;49m\u001b[43mweights\u001b[49m\u001b[43m)\u001b[49m\u001b[43m,\u001b[49m\n\u001b[0;32m   2344\u001b[0m \u001b[43m    \u001b[49m\u001b[43morder\u001b[49m\u001b[38;5;241;43m=\u001b[39;49m\u001b[43morder\u001b[49m\u001b[43m,\u001b[49m\n\u001b[0;32m   2345\u001b[0m \u001b[43m    \u001b[49m\u001b[43morient\u001b[49m\u001b[38;5;241;43m=\u001b[39;49m\u001b[43morient\u001b[49m\u001b[43m,\u001b[49m\n\u001b[0;32m   2346\u001b[0m \u001b[43m    \u001b[49m\u001b[43mcolor\u001b[49m\u001b[38;5;241;43m=\u001b[39;49m\u001b[43mcolor\u001b[49m\u001b[43m,\u001b[49m\n\u001b[0;32m   2347\u001b[0m \u001b[43m    \u001b[49m\u001b[43mlegend\u001b[49m\u001b[38;5;241;43m=\u001b[39;49m\u001b[43mlegend\u001b[49m\u001b[43m,\u001b[49m\n\u001b[0;32m   2348\u001b[0m \u001b[43m\u001b[49m\u001b[43m)\u001b[49m\n\u001b[0;32m   2350\u001b[0m \u001b[38;5;28;01mif\u001b[39;00m ax \u001b[38;5;129;01mis\u001b[39;00m \u001b[38;5;28;01mNone\u001b[39;00m:\n\u001b[0;32m   2351\u001b[0m     ax \u001b[38;5;241m=\u001b[39m plt\u001b[38;5;241m.\u001b[39mgca()\n",
      "File \u001b[1;32mc:\\Users\\Asus\\AppData\\Local\\Programs\\Python\\Python312\\Lib\\site-packages\\seaborn\\categorical.py:67\u001b[0m, in \u001b[0;36m_CategoricalPlotter.__init__\u001b[1;34m(self, data, variables, order, orient, require_numeric, color, legend)\u001b[0m\n\u001b[0;32m     56\u001b[0m \u001b[38;5;28;01mdef\u001b[39;00m \u001b[38;5;21m__init__\u001b[39m(\n\u001b[0;32m     57\u001b[0m     \u001b[38;5;28mself\u001b[39m,\n\u001b[0;32m     58\u001b[0m     data\u001b[38;5;241m=\u001b[39m\u001b[38;5;28;01mNone\u001b[39;00m,\n\u001b[1;32m   (...)\u001b[0m\n\u001b[0;32m     64\u001b[0m     legend\u001b[38;5;241m=\u001b[39m\u001b[38;5;124m\"\u001b[39m\u001b[38;5;124mauto\u001b[39m\u001b[38;5;124m\"\u001b[39m,\n\u001b[0;32m     65\u001b[0m ):\n\u001b[1;32m---> 67\u001b[0m     \u001b[38;5;28;43msuper\u001b[39;49m\u001b[43m(\u001b[49m\u001b[43m)\u001b[49m\u001b[38;5;241;43m.\u001b[39;49m\u001b[38;5;21;43m__init__\u001b[39;49m\u001b[43m(\u001b[49m\u001b[43mdata\u001b[49m\u001b[38;5;241;43m=\u001b[39;49m\u001b[43mdata\u001b[49m\u001b[43m,\u001b[49m\u001b[43m \u001b[49m\u001b[43mvariables\u001b[49m\u001b[38;5;241;43m=\u001b[39;49m\u001b[43mvariables\u001b[49m\u001b[43m)\u001b[49m\n\u001b[0;32m     69\u001b[0m     \u001b[38;5;66;03m# This method takes care of some bookkeeping that is necessary because the\u001b[39;00m\n\u001b[0;32m     70\u001b[0m     \u001b[38;5;66;03m# original categorical plots (prior to the 2021 refactor) had some rules that\u001b[39;00m\n\u001b[0;32m     71\u001b[0m     \u001b[38;5;66;03m# don't fit exactly into VectorPlotter logic. It may be wise to have a second\u001b[39;00m\n\u001b[1;32m   (...)\u001b[0m\n\u001b[0;32m     76\u001b[0m     \u001b[38;5;66;03m# default VectorPlotter rules. If we do decide to make orient part of the\u001b[39;00m\n\u001b[0;32m     77\u001b[0m     \u001b[38;5;66;03m# _base variable assignment, we'll want to figure out how to express that.\u001b[39;00m\n\u001b[0;32m     78\u001b[0m     \u001b[38;5;28;01mif\u001b[39;00m \u001b[38;5;28mself\u001b[39m\u001b[38;5;241m.\u001b[39minput_format \u001b[38;5;241m==\u001b[39m \u001b[38;5;124m\"\u001b[39m\u001b[38;5;124mwide\u001b[39m\u001b[38;5;124m\"\u001b[39m \u001b[38;5;129;01mand\u001b[39;00m orient \u001b[38;5;129;01min\u001b[39;00m [\u001b[38;5;124m\"\u001b[39m\u001b[38;5;124mh\u001b[39m\u001b[38;5;124m\"\u001b[39m, \u001b[38;5;124m\"\u001b[39m\u001b[38;5;124my\u001b[39m\u001b[38;5;124m\"\u001b[39m]:\n",
      "File \u001b[1;32mc:\\Users\\Asus\\AppData\\Local\\Programs\\Python\\Python312\\Lib\\site-packages\\seaborn\\_base.py:634\u001b[0m, in \u001b[0;36mVectorPlotter.__init__\u001b[1;34m(self, data, variables)\u001b[0m\n\u001b[0;32m    629\u001b[0m \u001b[38;5;66;03m# var_ordered is relevant only for categorical axis variables, and may\u001b[39;00m\n\u001b[0;32m    630\u001b[0m \u001b[38;5;66;03m# be better handled by an internal axis information object that tracks\u001b[39;00m\n\u001b[0;32m    631\u001b[0m \u001b[38;5;66;03m# such information and is set up by the scale_* methods. The analogous\u001b[39;00m\n\u001b[0;32m    632\u001b[0m \u001b[38;5;66;03m# information for numeric axes would be information about log scales.\u001b[39;00m\n\u001b[0;32m    633\u001b[0m \u001b[38;5;28mself\u001b[39m\u001b[38;5;241m.\u001b[39m_var_ordered \u001b[38;5;241m=\u001b[39m {\u001b[38;5;124m\"\u001b[39m\u001b[38;5;124mx\u001b[39m\u001b[38;5;124m\"\u001b[39m: \u001b[38;5;28;01mFalse\u001b[39;00m, \u001b[38;5;124m\"\u001b[39m\u001b[38;5;124my\u001b[39m\u001b[38;5;124m\"\u001b[39m: \u001b[38;5;28;01mFalse\u001b[39;00m}  \u001b[38;5;66;03m# alt., used DefaultDict\u001b[39;00m\n\u001b[1;32m--> 634\u001b[0m \u001b[38;5;28;43mself\u001b[39;49m\u001b[38;5;241;43m.\u001b[39;49m\u001b[43massign_variables\u001b[49m\u001b[43m(\u001b[49m\u001b[43mdata\u001b[49m\u001b[43m,\u001b[49m\u001b[43m \u001b[49m\u001b[43mvariables\u001b[49m\u001b[43m)\u001b[49m\n\u001b[0;32m    636\u001b[0m \u001b[38;5;66;03m# TODO Lots of tests assume that these are called to initialize the\u001b[39;00m\n\u001b[0;32m    637\u001b[0m \u001b[38;5;66;03m# mappings to default values on class initialization. I'd prefer to\u001b[39;00m\n\u001b[0;32m    638\u001b[0m \u001b[38;5;66;03m# move away from that and only have a mapping when explicitly called.\u001b[39;00m\n\u001b[0;32m    639\u001b[0m \u001b[38;5;28;01mfor\u001b[39;00m var \u001b[38;5;129;01min\u001b[39;00m [\u001b[38;5;124m\"\u001b[39m\u001b[38;5;124mhue\u001b[39m\u001b[38;5;124m\"\u001b[39m, \u001b[38;5;124m\"\u001b[39m\u001b[38;5;124msize\u001b[39m\u001b[38;5;124m\"\u001b[39m, \u001b[38;5;124m\"\u001b[39m\u001b[38;5;124mstyle\u001b[39m\u001b[38;5;124m\"\u001b[39m]:\n",
      "File \u001b[1;32mc:\\Users\\Asus\\AppData\\Local\\Programs\\Python\\Python312\\Lib\\site-packages\\seaborn\\_base.py:679\u001b[0m, in \u001b[0;36mVectorPlotter.assign_variables\u001b[1;34m(self, data, variables)\u001b[0m\n\u001b[0;32m    674\u001b[0m \u001b[38;5;28;01melse\u001b[39;00m:\n\u001b[0;32m    675\u001b[0m     \u001b[38;5;66;03m# When dealing with long-form input, use the newer PlotData\u001b[39;00m\n\u001b[0;32m    676\u001b[0m     \u001b[38;5;66;03m# object (internal but introduced for the objects interface)\u001b[39;00m\n\u001b[0;32m    677\u001b[0m     \u001b[38;5;66;03m# to centralize / standardize data consumption logic.\u001b[39;00m\n\u001b[0;32m    678\u001b[0m     \u001b[38;5;28mself\u001b[39m\u001b[38;5;241m.\u001b[39minput_format \u001b[38;5;241m=\u001b[39m \u001b[38;5;124m\"\u001b[39m\u001b[38;5;124mlong\u001b[39m\u001b[38;5;124m\"\u001b[39m\n\u001b[1;32m--> 679\u001b[0m     plot_data \u001b[38;5;241m=\u001b[39m \u001b[43mPlotData\u001b[49m\u001b[43m(\u001b[49m\u001b[43mdata\u001b[49m\u001b[43m,\u001b[49m\u001b[43m \u001b[49m\u001b[43mvariables\u001b[49m\u001b[43m)\u001b[49m\n\u001b[0;32m    680\u001b[0m     frame \u001b[38;5;241m=\u001b[39m plot_data\u001b[38;5;241m.\u001b[39mframe\n\u001b[0;32m    681\u001b[0m     names \u001b[38;5;241m=\u001b[39m plot_data\u001b[38;5;241m.\u001b[39mnames\n",
      "File \u001b[1;32mc:\\Users\\Asus\\AppData\\Local\\Programs\\Python\\Python312\\Lib\\site-packages\\seaborn\\_core\\data.py:58\u001b[0m, in \u001b[0;36mPlotData.__init__\u001b[1;34m(self, data, variables)\u001b[0m\n\u001b[0;32m     51\u001b[0m \u001b[38;5;28;01mdef\u001b[39;00m \u001b[38;5;21m__init__\u001b[39m(\n\u001b[0;32m     52\u001b[0m     \u001b[38;5;28mself\u001b[39m,\n\u001b[0;32m     53\u001b[0m     data: DataSource,\n\u001b[0;32m     54\u001b[0m     variables: \u001b[38;5;28mdict\u001b[39m[\u001b[38;5;28mstr\u001b[39m, VariableSpec],\n\u001b[0;32m     55\u001b[0m ):\n\u001b[0;32m     57\u001b[0m     data \u001b[38;5;241m=\u001b[39m handle_data_source(data)\n\u001b[1;32m---> 58\u001b[0m     frame, names, ids \u001b[38;5;241m=\u001b[39m \u001b[38;5;28;43mself\u001b[39;49m\u001b[38;5;241;43m.\u001b[39;49m\u001b[43m_assign_variables\u001b[49m\u001b[43m(\u001b[49m\u001b[43mdata\u001b[49m\u001b[43m,\u001b[49m\u001b[43m \u001b[49m\u001b[43mvariables\u001b[49m\u001b[43m)\u001b[49m\n\u001b[0;32m     60\u001b[0m     \u001b[38;5;28mself\u001b[39m\u001b[38;5;241m.\u001b[39mframe \u001b[38;5;241m=\u001b[39m frame\n\u001b[0;32m     61\u001b[0m     \u001b[38;5;28mself\u001b[39m\u001b[38;5;241m.\u001b[39mnames \u001b[38;5;241m=\u001b[39m names\n",
      "File \u001b[1;32mc:\\Users\\Asus\\AppData\\Local\\Programs\\Python\\Python312\\Lib\\site-packages\\seaborn\\_core\\data.py:232\u001b[0m, in \u001b[0;36mPlotData._assign_variables\u001b[1;34m(self, data, variables)\u001b[0m\n\u001b[0;32m    230\u001b[0m     \u001b[38;5;28;01melse\u001b[39;00m:\n\u001b[0;32m    231\u001b[0m         err \u001b[38;5;241m+\u001b[39m\u001b[38;5;241m=\u001b[39m \u001b[38;5;124m\"\u001b[39m\u001b[38;5;124mAn entry with this name does not appear in `data`.\u001b[39m\u001b[38;5;124m\"\u001b[39m\n\u001b[1;32m--> 232\u001b[0m     \u001b[38;5;28;01mraise\u001b[39;00m \u001b[38;5;167;01mValueError\u001b[39;00m(err)\n\u001b[0;32m    234\u001b[0m \u001b[38;5;28;01melse\u001b[39;00m:\n\u001b[0;32m    235\u001b[0m \n\u001b[0;32m    236\u001b[0m     \u001b[38;5;66;03m# Otherwise, assume the value somehow represents data\u001b[39;00m\n\u001b[0;32m    237\u001b[0m \n\u001b[0;32m    238\u001b[0m     \u001b[38;5;66;03m# Ignore empty data structures\u001b[39;00m\n\u001b[0;32m    239\u001b[0m     \u001b[38;5;28;01mif\u001b[39;00m \u001b[38;5;28misinstance\u001b[39m(val, Sized) \u001b[38;5;129;01mand\u001b[39;00m \u001b[38;5;28mlen\u001b[39m(val) \u001b[38;5;241m==\u001b[39m \u001b[38;5;241m0\u001b[39m:\n",
      "\u001b[1;31mValueError\u001b[0m: Could not interpret value `job_category` for `x`. An entry with this name does not appear in `data`."
     ]
    },
    {
     "data": {
      "image/png": "[encoded data removed]",
      "text/plain": [
       "<Figure size 1400x600 with 1 Axes>"
      ]
     },
     "metadata": {},
     "output_type": "display_data"
    }
   ],
   "source": [
    "# Bar chart for salary by job category\n",
    "\n",
    "fig, ax = plt.subplots(figsize = (14, 6))\n",
    "sns.barplot(x='job_category', y='salary', data=df, palette='viridis')\n",
    "\n",
    "for p in ax.patches:\n",
    "    ax.annotate(f\"{int(p.get_width())}\", (p.get_width() + 1, p.get_y() + 0.5), fontsize=10, color=p.get_facecolor(), fontweight='bold')\n",
    "    \n",
    "plt.title('İş kategorilerine göre maaşlar')\n",
    "plt.xlabel('job_category')\n",
    "plt.ylabel('salary')\n",
    "plt.show()\n"
   ]
  },
  {
   "cell_type": "markdown",
   "id": "51dba3da",
   "metadata": {},
   "source": [
    "### Experience Level vs. Salary Distribution"
   ]
  },
  {
   "cell_type": "code",
   "execution_count": null,
   "id": "bcab73ba",
   "metadata": {},
   "outputs": [],
   "source": [
    "# Boxplot for salary distribution by experience level\n",
    "\n",
    "\n",
    "\n",
    "# Grafik boyutunu ve stilini ayarlayın\n",
    "plt.figure(figsize=(12, 6))\n",
    "sns.set_style(\"whitegrid\")\n",
    "\n",
    "# Kutu grafiğini çizin\n",
    "sns.boxplot(x='experience_level', y='salary', data=df)\n",
    "\n",
    "# Grafik başlığını ve eksen etiketlerini ayarlayın\n",
    "plt.title('Deneyim Seviyesine Göre Maaş Dağılımı', fontsize=16)\n",
    "plt.xlabel('Deneyim Seviyesi', fontsize=12)\n",
    "plt.ylabel('Maaş', fontsize=12)\n",
    "\n",
    "# Y eksenini biçimlendirin (örneğin, binlik ayırıcı ekleyin)\n",
    "plt.gca().yaxis.set_major_formatter(plt.FuncFormatter(lambda x, p: format(int(x), ',')))\n",
    "\n",
    "# Grafiği gösterin\n",
    "plt.tight_layout()\n",
    "plt.show()"
   ]
  },
  {
   "cell_type": "markdown",
   "id": "413c76f3",
   "metadata": {},
   "source": [
    "### Work Setting and Salary Comparison"
   ]
  },
  {
   "cell_type": "code",
   "execution_count": null,
   "id": "780ee57e",
   "metadata": {},
   "outputs": [],
   "source": [
    "# Violin plot for work setting and salary distribution\n",
    "\n",
    "\n",
    "# Grafik boyutunu ve stilini ayarlayın\n",
    "plt.figure(figsize=(14, 8))\n",
    "sns.set_style(\"whitegrid\")\n",
    "\n",
    "# Keman grafiğini çizin\n",
    "sns.violinplot(x='work_setting', y='salary', data=df, \n",
    "               cut=0,  # Keman uçlarını kırpma\n",
    "               scale='width',  # Her keman aynı genişlikte olsun\n",
    "               inner='box')  # İç kısımda kutu grafiği göster\n",
    "\n",
    "# Grafik başlığını ve eksen etiketlerini ayarlayın\n",
    "plt.title('Çalışma Ortamına Göre Maaş Dağılımı', fontsize=16)\n",
    "plt.xlabel('Çalışma Ortamı', fontsize=12)\n",
    "plt.ylabel('Maaş', fontsize=12)\n",
    "\n",
    "# Y eksenini biçimlendirin (örneğin, binlik ayırıcı ekleyin)\n",
    "plt.gca().yaxis.set_major_formatter(plt.FuncFormatter(lambda x, p: format(int(x), ',')))\n",
    "\n",
    "# X ekseni etiketlerini döndürün (eğer gerekirse)\n",
    "plt.xticks(rotation=45, ha='right')\n",
    "\n",
    "# Grafiği gösterin\n",
    "plt.tight_layout()\n",
    "plt.show()\n"
   ]
  },
  {
   "cell_type": "markdown",
   "id": "9a1ab54b",
   "metadata": {},
   "source": [
    "### Salary Trends Over Time"
   ]
  },
  {
   "cell_type": "code",
   "execution_count": null,
   "id": "e8e29616",
   "metadata": {},
   "outputs": [],
   "source": [
    "# Line chart for salary trends over time\n",
    "\n",
    "\n",
    "df['work_year'] = pd.to_datetime(df['work_year'])\n",
    "\n",
    "# Tarihe göre sıralayın\n",
    "df = df.sort_values('work_year')\n",
    "\n",
    "# Grafik boyutunu ve stilini ayarlayın\n",
    "plt.figure(figsize=(14, 8))\n",
    "sns.set_style(\"whitegrid\")\n",
    "\n",
    "# Ortalama maaşları hesaplayın\n",
    "avg_salaries = df.groupby('work_year')['salary'].mean().reset_index()\n",
    "\n",
    "# Çizgi grafiğini çizin\n",
    "sns.lineplot(x='work_year', y='salary', data=avg_salaries, linewidth=2)\n",
    "\n",
    "# Grafik başlığını ve eksen etiketlerini ayarlayın\n",
    "plt.title('Zaman İçinde Ortalama Maaş Trendi', fontsize=16)\n",
    "plt.xlabel('Tarih', fontsize=12)\n",
    "plt.ylabel('Ortalama Maaş', fontsize=12)\n",
    "\n",
    "# Y eksenini biçimlendirin (örneğin, binlik ayırıcı ekleyin)\n",
    "plt.gca().yaxis.set_major_formatter(plt.FuncFormatter(lambda x, p: format(int(x), ',')))\n",
    "\n",
    "# X ekseni tarih formatını ayarlayın\n",
    "plt.gca().xaxis.set_major_locator(plt.YearLocator())\n",
    "plt.gca().xaxis.set_major_formatter(plt.DateFormatter('%Y'))\n",
    "\n",
    "# Grafiği gösterin\n",
    "plt.tight_layout()\n",
    "plt.show()\n"
   ]
  },
  {
   "cell_type": "markdown",
   "id": "8ceb1983",
   "metadata": {},
   "source": [
    "### Salary Distribution by Employee Residence and Company Location"
   ]
  },
  {
   "cell_type": "code",
   "execution_count": null,
   "id": "9198893a",
   "metadata": {},
   "outputs": [],
   "source": [
    "# Heatmap for salary by location\n",
    "\n",
    "# Lokasyona göre ortalama maaşları hesaplayın\n",
    "salary_by_location = df.groupby('company_location')['salary'].mean().sort_values(ascending=False)\n",
    "\n",
    "# En yüksek ortalama maaşa sahip ilk 10 lokasyonu seçin (isteğe bağlı)\n",
    "top_10_locations = salary_by_location.nlargest(10)\n",
    "\n",
    "# Grafik boyutunu ayarlayın\n",
    "plt.figure(figsize=(12, 10))\n",
    "\n",
    "# Isı haritasını çizin\n",
    "sns.heatmap(top_10_locations.to_frame().T, annot=True, fmt='.0f', cmap='Blues', \n",
    "            linewidths=0.5, cbar_kws={'label': 'Ortalama Maaş'})\n",
    "\n",
    "# Grafik başlığını ve eksen etiketlerini ayarlayın\n",
    "plt.title('Lokasyona Göre Ortalama Maaş Dağılımı (Top 10)', fontsize=16)\n",
    "plt.xlabel('Lokasyon', fontsize=12)\n",
    "plt.ylabel('')  # Y eksen etiketi boş bırakılıyor\n",
    "\n",
    "# X ekseni etiketlerini döndürün\n",
    "plt.xticks(rotation=45, ha='right')\n",
    "\n",
    "# Grafiği gösterin\n",
    "plt.tight_layout()\n",
    "plt.show()\n"
   ]
  },
  {
   "cell_type": "markdown",
   "id": "c2a33b88",
   "metadata": {},
   "source": [
    "### Correlation Between Numerical Variables"
   ]
  },
  {
   "cell_type": "code",
   "execution_count": null,
   "id": "336b1601",
   "metadata": {},
   "outputs": [],
   "source": [
    "# Correlation heatmap\n",
    "# Sadece sayısal sütunları seçin\n",
    "numeric_columns = df.select_dtypes(include=['int64', 'float64']).columns\n",
    "df_numeric = df[numeric_columns]\n",
    "\n",
    "# Korelasyon matrisini hesaplayın\n",
    "correlation_matrix = df_numeric.corr()\n",
    "\n",
    "# Grafik boyutunu ayarlayın\n",
    "plt.figure(figsize=(12, 10))\n",
    "\n",
    "# Korelasyon ısı haritasını çizin\n",
    "sns.heatmap(correlation_matrix, annot=True, cmap='coolwarm', vmin=-1, vmax=1, center=0,\n",
    "            square=True, linewidths=0.5, cbar_kws={'shrink': .8})\n",
    "\n",
    "# Grafik başlığını ayarlayın\n",
    "plt.title('Değişkenler Arası Korelasyon Isı Haritası', fontsize=16)\n",
    "\n",
    "# Grafiği gösterin\n",
    "plt.tight_layout()\n",
    "plt.show()\n"
   ]
  },
  {
   "cell_type": "markdown",
   "id": "ba71e20a",
   "metadata": {},
   "source": [
    "### Salary Comparison by Company Size"
   ]
  },
  {
   "cell_type": "code",
   "execution_count": null,
   "id": "14e49065",
   "metadata": {},
   "outputs": [],
   "source": [
    "# Boxplot for salary by company size\n",
    "\n",
    "\n",
    "# Grafik boyutunu ve stilini ayarlayın\n",
    "plt.figure(figsize=(12, 6))\n",
    "sns.set_style(\"whitegrid\")\n",
    "\n",
    "# Kutu grafiğini çizin\n",
    "sns.boxplot(x='company_size', y='salary', data=df, palette='viridis')\n",
    "\n",
    "# Grafik başlığını ve eksen etiketlerini ayarlayın\n",
    "plt.title('Şirket Büyüklüğüne Göre Maaş Dağılımı', fontsize=16)\n",
    "plt.xlabel('Şirket Büyüklüğü', fontsize=12)\n",
    "plt.ylabel('Maaş', fontsize=12)\n",
    "\n",
    "# Y eksenini biçimlendirin (örneğin, binlik ayırıcı ekleyin)\n",
    "plt.gca().yaxis.set_major_formatter(plt.FuncFormatter(lambda x, p: format(int(x), ',')))\n",
    "\n",
    "# X ekseni etiketlerini döndürün (eğer gerekirse)\n",
    "plt.xticks(rotation=45, ha='right')\n",
    "\n",
    "# Grafiği gösterin\n",
    "plt.tight_layout()\n",
    "plt.show()\n"
   ]
  },
  {
   "cell_type": "markdown",
   "id": "b64a3bed",
   "metadata": {},
   "source": [
    "### Salary Distribution by Job Title"
   ]
  },
  {
   "cell_type": "code",
   "execution_count": null,
   "id": "b034c7b2",
   "metadata": {},
   "outputs": [],
   "source": [
    "# Bar chart for salary distribution by job title\n",
    "\n",
    "\n",
    "# İş unvanına göre ortalama maaşları hesaplayın\n",
    "salary_by_title = df.groupby('job_title')['salary'].mean().sort_values(ascending=False)\n",
    "\n",
    "# En yüksek maaşa sahip ilk 15 iş unvanını seçin (isteğe bağlı)\n",
    "top_15_titles = salary_by_title.head(15)\n",
    "\n",
    "# Grafik boyutunu ve stilini ayarlayın\n",
    "plt.figure(figsize=(14, 8))\n",
    "sns.set_style(\"whitegrid\")\n",
    "\n",
    "# Sütun grafiğini çizin\n",
    "sns.barplot(x=top_15_titles.index, y=top_15_titles.values, palette='viridis')\n",
    "\n",
    "# Grafik başlığını ve eksen etiketlerini ayarlayın\n",
    "plt.title('İş Unvanına Göre Ortalama Maaş Dağılımı (İlk 15)', fontsize=16)\n",
    "plt.xlabel('İş Unvanı', fontsize=12)\n",
    "plt.ylabel('Ortalama Maaş', fontsize=12)\n",
    "\n",
    "# Y eksenini biçimlendirin (örneğin, binlik ayırıcı ekleyin)\n",
    "plt.gca().yaxis.set_major_formatter(plt.FuncFormatter(lambda x, p: f'{x:,.0f}'))\n",
    "\n",
    "# X ekseni etiketlerini döndürün\n",
    "plt.xticks(rotation=45, ha='right')\n",
    "\n",
    "# Sütunların üzerine değerleri ekleyin\n",
    "for i, v in enumerate(top_15_titles.values):\n",
    "    plt.text(i, v, f'{v:,.0f}', ha='center', va='bottom')\n",
    "\n",
    "# Grafiği gösterin\n",
    "plt.tight_layout()\n",
    "plt.show()"
   ]
  },
  {
   "cell_type": "markdown",
   "id": "fe52790a",
   "metadata": {},
   "source": [
    "### Category and Employment Type Comparison"
   ]
  },
  {
   "cell_type": "code",
   "execution_count": null,
   "id": "fe18a455",
   "metadata": {},
   "outputs": [],
   "source": [
    "# Grouped bar chart for job category and employment type\n",
    "\n",
    "# İş kategorisi ve istihdam türüne göre ortalama maaşları hesaplayın\n",
    "salary_by_category_type = df.groupby(['job_category', 'employment_type'])['salary'].mean().unstack()\n",
    "\n",
    "# Grafiği oluşturun\n",
    "plt.figure(figsize=(14, 8))\n",
    "ax = salary_by_category_type.plot(kind='bar', width=0.8)\n",
    "\n",
    "# Grafik başlığını ve eksen etiketlerini ayarlayın\n",
    "plt.title('İş Kategorisi ve İstihdam Türüne Göre Ortalama Maaş', fontsize=16)\n",
    "plt.xlabel('İş Kategorisi', fontsize=12)\n",
    "plt.ylabel('Ortalama Maaş', fontsize=12)\n",
    "\n",
    "# Y eksenini biçimlendirin (örneğin, binlik ayırıcı ekleyin)\n",
    "plt.gca().yaxis.set_major_formatter(plt.FuncFormatter(lambda x, p: f'{x:,.0f}'))\n",
    "\n",
    "# X ekseni etiketlerini döndürün\n",
    "plt.xticks(rotation=45, ha='right')\n",
    "\n",
    "# Açıklama kutusunu ekleyin\n",
    "plt.legend(title='İstihdam Türü', bbox_to_anchor=(1.05, 1), loc='upper left')\n",
    "\n",
    "\n",
    "# Grafiği gösterin\n",
    "plt.tight_layout()\n",
    "plt.show()\n"
   ]
  },
  {
   "cell_type": "markdown",
   "id": "6081d4b7",
   "metadata": {},
   "source": [
    "### Time Series Analysis of Job Postings"
   ]
  },
  {
   "cell_type": "code",
   "execution_count": null,
   "id": "2c240ff9",
   "metadata": {},
   "outputs": [],
   "source": [
    "# Line chart for number of job postings over time by job category\n"
   ]
  },
  {
   "cell_type": "markdown",
   "id": "7b138941-2cfe-463c-9b8a-ca6528cb7410",
   "metadata": {},
   "source": [
    "### and more.."
   ]
  },
  {
   "cell_type": "code",
   "execution_count": null,
   "id": "8bf31dd3-0518-4a69-97f7-0e70ec1a22fa",
   "metadata": {},
   "outputs": [],
   "source": []
  },
  {
   "cell_type": "markdown",
   "id": "2f189c1c-9f65-4c2a-a127-6229f5f0dbc3",
   "metadata": {},
   "source": [
    "## Step 6: Conclusion"
   ]
  },
  {
   "cell_type": "markdown",
   "id": "6f9ffad0-fccf-4980-9eac-8cbc98ed9755",
   "metadata": {},
   "source": [
    "- Summarize insights from your data analysis."
   ]
  },
  {
   "cell_type": "markdown",
   "id": "6cbc6db3-29b0-4831-8054-5568fbb043f1",
   "metadata": {},
   "source": [
    "# <p style=\"background-color:green;font-family:newtimeroman;font-size:200%;color:white;text-align:center;border-radius:20px 20px;\"><b>Tebrikler!</b></p>\n",
    "![](https://www.techproeducation.com/logo/headerlogo.svg)\n",
    "\n",
    "<b>Yeniliklerden ilk siz haberdar olmak istiyorsanız lütfen bizi takip etmeyi unutmayın </b>[YouTube](https://www.youtube.com/c/techproeducation) | [Instagram](https://www.instagram.com/techproeducation) | [Facebook](https://www.facebook.com/techproeducation) | [Telegram](https://t.me/joinchat/HH2qRvA-ulh4OWbb) | [Whatsapp](https://api.whatsapp.com/send/?phone=%2B15853042959&text&type=phone_number&app_absent=0) | [LinkedIn](https://www.linkedin.com/company/techproeducation/mycompany/) |"
   ]
  }
 ],
 "metadata": {
  "kernelspec": {
   "display_name": "Python 3",
   "language": "python",
   "name": "python3"
  },
  "language_info": {
   "codemirror_mode": {
    "name": "ipython",
    "version": 3
   },
   "file_extension": ".py",
   "mimetype": "text/x-python",
   "name": "python",
   "nbconvert_exporter": "python",
   "pygments_lexer": "ipython3",
   "version": "3.12.5"
  }
 },
 "nbformat": 4,
 "nbformat_minor": 5
}
